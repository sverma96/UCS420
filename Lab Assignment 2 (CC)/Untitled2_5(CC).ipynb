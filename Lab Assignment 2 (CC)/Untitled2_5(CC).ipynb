{
  "nbformat": 4,
  "nbformat_minor": 0,
  "metadata": {
    "colab": {
      "provenance": []
    },
    "kernelspec": {
      "name": "python3",
      "display_name": "Python 3"
    },
    "language_info": {
      "name": "python"
    }
  },
  "cells": [
    {
      "cell_type": "markdown",
      "source": [
        "Q5. Write a program to rename a key city to a location in the following dictionary."
      ],
      "metadata": {
        "id": "YKfaR4wmt_Mg"
      }
    },
    {
      "cell_type": "code",
      "execution_count": null,
      "metadata": {
        "colab": {
          "base_uri": "https://localhost:8080/"
        },
        "id": "we6HLpextoUT",
        "outputId": "0bc81614-db06-4742-908c-98727e9b02e3"
      },
      "outputs": [
        {
          "output_type": "stream",
          "name": "stdout",
          "text": [
            "{'Name': 'Kelly', 'Age': 25, 'Salary': 8000, 'Location': 'New york'}\n"
          ]
        }
      ],
      "source": [
        "sample_dict = {\n",
        "    \"Name\": \"Kelly\",\n",
        "    \"Age\": 25,\n",
        "    \"Salary\": 8000,\n",
        "    \"City\": \"New york\"\n",
        "}\n",
        "\n",
        "sample_dict['Location'] = sample_dict.pop('City')\n",
        "\n",
        "print(sample_dict)"
      ]
    },
    {
      "cell_type": "code",
      "source": [
        "Student_dict = {\n",
        "    \"Name\": \"Raman\",\n",
        "    \"Age\": 20,\n",
        "    \"Course\": \"UCS420\",\n",
        "    \"City\": \"Patiala\",\n",
        "    \"Semester\": 4\n",
        "}\n",
        "\n",
        "Student_dict['Location'] =Student_dict.pop('City')\n",
        "print(Student_dict)"
      ],
      "metadata": {
        "colab": {
          "base_uri": "https://localhost:8080/"
        },
        "id": "joCFQ5SnuO0q",
        "outputId": "53c3004a-c1e5-4646-8b89-d5afab6a81e8"
      },
      "execution_count": null,
      "outputs": [
        {
          "output_type": "stream",
          "name": "stdout",
          "text": [
            "{'Name': 'Raman', 'Age': 20, 'Course': 'UCS420', 'Semester': 4, 'Location': 'Patiala'}\n"
          ]
        }
      ]
    }
  ]
}