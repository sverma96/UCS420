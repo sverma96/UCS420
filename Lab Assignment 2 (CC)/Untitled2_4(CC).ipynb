{
  "nbformat": 4,
  "nbformat_minor": 0,
  "metadata": {
    "colab": {
      "provenance": []
    },
    "kernelspec": {
      "name": "python3",
      "display_name": "Python 3"
    },
    "language_info": {
      "name": "python"
    }
  },
  "cells": [
    {
      "cell_type": "markdown",
      "source": [
        "Q4.  Consider the following two sets, A and B, representing scores of two teams in muliple matches.  A = {34, 56, 78, 90}  and B = {78, 45, 90, 23}\n",
        "WAP to perform the following operations using set functions:"
      ],
      "metadata": {
        "id": "h6n5DpyuqoVf"
      }
    },
    {
      "cell_type": "markdown",
      "source": [
        "i) Find the unique scores achieved by both teams (union of sets)."
      ],
      "metadata": {
        "id": "fu_vr2GDrKhZ"
      }
    },
    {
      "cell_type": "code",
      "execution_count": null,
      "metadata": {
        "colab": {
          "base_uri": "https://localhost:8080/"
        },
        "id": "v5A_VQetqhWM",
        "outputId": "6afd1444-61a4-4d52-d2dc-188a0a3b2a46"
      },
      "outputs": [
        {
          "output_type": "stream",
          "name": "stdout",
          "text": [
            "Unique scores achieved by both teams (Union): {34, 45, 78, 23, 56, 90}\n"
          ]
        }
      ],
      "source": [
        "A = {34, 56, 78, 90}\n",
        "B = {78, 45, 90, 23}\n",
        "\n",
        "union_ab = A.union(B)\n",
        "print(\"Unique scores achieved by both teams (Union):\", union_ab)"
      ]
    },
    {
      "cell_type": "markdown",
      "source": [
        "ii) Identify the scores that are common to both teams (intersection of sets)."
      ],
      "metadata": {
        "id": "Zak3NRyXrkxD"
      }
    },
    {
      "cell_type": "code",
      "source": [
        "intersection_ab = A.intersection(B)\n",
        "print(\"Common scores between both teams (Intersection):\", intersection_ab)"
      ],
      "metadata": {
        "colab": {
          "base_uri": "https://localhost:8080/"
        },
        "id": "xP3veLNGrkHF",
        "outputId": "1bdd46a3-1788-441e-a37a-b11a9ec01a52"
      },
      "execution_count": null,
      "outputs": [
        {
          "output_type": "stream",
          "name": "stdout",
          "text": [
            "Common scores between both teams (Intersection): {90, 78}\n"
          ]
        }
      ]
    },
    {
      "cell_type": "markdown",
      "source": [
        "iii) Find the scores that are exclusive to each team (symmetric difference)."
      ],
      "metadata": {
        "id": "1X9A3O5br7es"
      }
    },
    {
      "cell_type": "code",
      "source": [
        "symmetric_diff_ab = A.symmetric_difference(B)\n",
        "print(\"Scores exclusive to each team (Symmetric Difference):\", symmetric_diff_ab)"
      ],
      "metadata": {
        "colab": {
          "base_uri": "https://localhost:8080/"
        },
        "id": "TyV8ESxzr6Ug",
        "outputId": "1feaf01b-9cd3-4fb6-9502-e7c9fb44a774"
      },
      "execution_count": null,
      "outputs": [
        {
          "output_type": "stream",
          "name": "stdout",
          "text": [
            "Scores exclusive to each team (Symmetric Difference): {34, 45, 23, 56}\n"
          ]
        }
      ]
    },
    {
      "cell_type": "markdown",
      "source": [
        "iv) Check if the scores of team A are a subset of team B, and if team B's scores are a superset of team A."
      ],
      "metadata": {
        "id": "xlvFca95sOsq"
      }
    },
    {
      "cell_type": "code",
      "source": [
        "is_subset = A.issubset(B)\n",
        "is_superset = B.issuperset(A)\n",
        "print(\"Is team A's scores a subset of team B?\", is_subset)\n",
        "print(\"Is team B's scores a superset of team A?\", is_superset)"
      ],
      "metadata": {
        "colab": {
          "base_uri": "https://localhost:8080/"
        },
        "id": "rVXDjBe5sNwN",
        "outputId": "57d34bfa-c8fc-49de-c2a4-1b44ef381f2b"
      },
      "execution_count": null,
      "outputs": [
        {
          "output_type": "stream",
          "name": "stdout",
          "text": [
            "Is team A's scores a subset of team B? False\n",
            "Is team B's scores a superset of team A? False\n"
          ]
        }
      ]
    },
    {
      "cell_type": "markdown",
      "source": [
        "v) Remove a specific score 𝑋 (input by the user) from set A if it exists. If not, print a message saying it is not present."
      ],
      "metadata": {
        "id": "u2U_6uups0_r"
      }
    },
    {
      "cell_type": "code",
      "source": [
        "score_to_remove = int(input(\"Enter a score to remove from set A: \"))\n",
        "\n",
        "if score_to_remove in A:\n",
        "    A.remove(score_to_remove)\n",
        "    print(f\"Score {score_to_remove} removed from set A.\")\n",
        "else:\n",
        "    print(f\"Score {score_to_remove} not found in set A.\")\n",
        "\n",
        "print(\"Modified set A:\", A)"
      ],
      "metadata": {
        "colab": {
          "base_uri": "https://localhost:8080/"
        },
        "id": "Uwv0Fz41sz6D",
        "outputId": "b97c73bd-3303-4b68-f677-b5918880e670"
      },
      "execution_count": null,
      "outputs": [
        {
          "output_type": "stream",
          "name": "stdout",
          "text": [
            "Enter a score to remove from set A: 18\n",
            "Score 18 not found in set A.\n",
            "Modified set A: {56, 34, 90, 78}\n"
          ]
        }
      ]
    }
  ]
}