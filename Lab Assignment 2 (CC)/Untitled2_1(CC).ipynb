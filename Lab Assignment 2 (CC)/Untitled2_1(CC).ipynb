{
  "nbformat": 4,
  "nbformat_minor": 0,
  "metadata": {
    "colab": {
      "provenance": []
    },
    "kernelspec": {
      "name": "python3",
      "display_name": "Python 3"
    },
    "language_info": {
      "name": "python"
    }
  },
  "cells": [
    {
      "cell_type": "markdown",
      "source": [
        "Q1. Create a List L that is defined as =[10,20,30,40,50,60,70,80]."
      ],
      "metadata": {
        "id": "cG05GxvhqWPj"
      }
    },
    {
      "cell_type": "markdown",
      "source": [
        "i) WAP to add 200 and 300 to L."
      ],
      "metadata": {
        "id": "mv5YedfZpKrW"
      }
    },
    {
      "cell_type": "code",
      "source": [
        "L=[10,20,30,40,50,60,70,80]\n",
        "print(L)\n",
        "L.append(200)\n",
        "L.append(300)\n",
        "print(L)"
      ],
      "metadata": {
        "colab": {
          "base_uri": "https://localhost:8080/"
        },
        "id": "nvS2XJC0qSxi",
        "outputId": "b1d9229e-59f7-4137-c2d6-e860a27a15a1"
      },
      "execution_count": null,
      "outputs": [
        {
          "output_type": "stream",
          "name": "stdout",
          "text": [
            "[10, 20, 30, 40, 50, 60, 70, 80]\n",
            "[10, 20, 30, 40, 50, 60, 70, 80, 200, 300]\n"
          ]
        }
      ]
    },
    {
      "cell_type": "markdown",
      "source": [
        "ii) WAP to remove 10 and 30 from L."
      ],
      "metadata": {
        "id": "OigJ5mxor6sY"
      }
    },
    {
      "cell_type": "code",
      "source": [
        "L.remove(10)\n",
        "L.remove(30)\n",
        "print(L)"
      ],
      "metadata": {
        "colab": {
          "base_uri": "https://localhost:8080/"
        },
        "id": "2eJsVKBDr5l9",
        "outputId": "c35d849b-f234-41d9-b1fb-a43fa600b2be"
      },
      "execution_count": null,
      "outputs": [
        {
          "output_type": "stream",
          "name": "stdout",
          "text": [
            "[20, 40, 50, 60, 70, 80, 200, 300]\n"
          ]
        }
      ]
    },
    {
      "cell_type": "markdown",
      "source": [
        "iii) WAP to sort L in Ascending Order."
      ],
      "metadata": {
        "id": "u0enxpvqsaOs"
      }
    },
    {
      "cell_type": "code",
      "source": [
        "L.sort()\n",
        "print(L)"
      ],
      "metadata": {
        "colab": {
          "base_uri": "https://localhost:8080/"
        },
        "id": "2W0RgipzsY-K",
        "outputId": "f84869c5-69c0-4eab-fac0-362a4e5740cb"
      },
      "execution_count": null,
      "outputs": [
        {
          "output_type": "stream",
          "name": "stdout",
          "text": [
            "[20, 40, 50, 60, 70, 80, 200, 300]\n"
          ]
        }
      ]
    },
    {
      "cell_type": "markdown",
      "source": [
        "iv) WAP to sort L in Descending Order."
      ],
      "metadata": {
        "id": "QkHvZU31s0G_"
      }
    },
    {
      "cell_type": "code",
      "source": [
        "L.sort(reverse=True)\n",
        "print(L)"
      ],
      "metadata": {
        "colab": {
          "base_uri": "https://localhost:8080/"
        },
        "id": "BjuaQ2fiszXb",
        "outputId": "457458ba-8446-4cec-99da-2013f439e381"
      },
      "execution_count": null,
      "outputs": [
        {
          "output_type": "stream",
          "name": "stdout",
          "text": [
            "[300, 200, 80, 70, 60, 50, 40, 20]\n"
          ]
        }
      ]
    }
  ]
}