{
  "nbformat": 4,
  "nbformat_minor": 0,
  "metadata": {
    "colab": {
      "provenance": []
    },
    "kernelspec": {
      "name": "python3",
      "display_name": "Python 3"
    },
    "language_info": {
      "name": "python"
    }
  },
  "cells": [
    {
      "cell_type": "markdown",
      "source": [
        "Assign 5.1 : WAP to find max among three numbers and input from user [Try max() function]"
      ],
      "metadata": {
        "id": "etTAfTyV2QBe"
      }
    },
    {
      "cell_type": "code",
      "execution_count": null,
      "metadata": {
        "id": "75taKYZUbezw",
        "colab": {
          "base_uri": "https://localhost:8080/"
        },
        "outputId": "cca438b3-a483-4e42-a59c-334b712381ec"
      },
      "outputs": [
        {
          "output_type": "stream",
          "name": "stdout",
          "text": [
            "Enter the value of a:4\n",
            "Enter the value of b:7\n",
            "Enter the value of c:10\n",
            "The maximum number among 4 7 and 10 is 10\n"
          ]
        }
      ],
      "source": [
        "a=int(input(\"Enter the value of a:\"))\n",
        "b=int(input(\"Enter the value of b:\"))\n",
        "c=int(input(\"Enter the value of c:\"))\n",
        "maximum = max(a,b,c)\n",
        "print(\"The maximum number among\",a, b,\"and\", c ,\"is\",maximum)"
      ]
    },
    {
      "cell_type": "markdown",
      "source": [
        "Assign 5.2 : WAP to add all numbers divisible by 7 and 9 from 1 to n and n is given by the user."
      ],
      "metadata": {
        "id": "ilI2-npS2wo1"
      }
    },
    {
      "cell_type": "code",
      "source": [
        "n=int(input(\"Enter the value of n:\"))\n",
        "sum = 0\n",
        "for i in range (1 , n+1):\n",
        "  if i%7 == 0 and i%9 == 0:\n",
        "    sum += i\n",
        "print(\"Sum of all the numbers divisible by 7 and 9 between 1 to n is:\", sum)"
      ],
      "metadata": {
        "id": "ThNIP5lkdjDC",
        "colab": {
          "base_uri": "https://localhost:8080/"
        },
        "outputId": "d199eb87-88ec-484f-a989-775fe095d94b"
      },
      "execution_count": null,
      "outputs": [
        {
          "output_type": "stream",
          "name": "stdout",
          "text": [
            "Enter the value of n:150\n",
            "Sum of all the numbers divisible by 7 and 9 between 1 to n is: 189\n"
          ]
        }
      ]
    },
    {
      "cell_type": "markdown",
      "source": [
        "Assign 5.3: WAP to add all prime numbers from 1 to n and n is given by the user."
      ],
      "metadata": {
        "id": "xUHkSBRX35xq"
      }
    },
    {
      "cell_type": "code",
      "source": [
        "n = int(input(\"Enter the value of n:\"))\n",
        "sum = 0\n",
        "\n",
        "for no in range(2, n+1):\n",
        "  is_prime = True\n",
        "\n",
        "  for i in range(2, int(no**0.5) + 1):\n",
        "    if no%i == 0:\n",
        "      is_prime = False\n",
        "      break\n",
        "\n",
        "  if is_prime:\n",
        "    sum += no\n",
        "\n",
        "print(\"Sum of all prime numbers from 1 to\" , n ,\" is:\", sum)"
      ],
      "metadata": {
        "colab": {
          "base_uri": "https://localhost:8080/"
        },
        "id": "z_Dk_VM133se",
        "outputId": "a1cbbdd4-fb3e-4e4a-be27-35c5f08650d3"
      },
      "execution_count": null,
      "outputs": [
        {
          "output_type": "stream",
          "name": "stdout",
          "text": [
            "Enter the value of n:12\n",
            "Sum of all prime numbers from 1 to 12  is: 28\n"
          ]
        }
      ]
    }
  ]
}