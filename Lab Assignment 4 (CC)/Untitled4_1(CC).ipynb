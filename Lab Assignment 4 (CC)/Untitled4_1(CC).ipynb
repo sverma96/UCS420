{
  "nbformat": 4,
  "nbformat_minor": 0,
  "metadata": {
    "colab": {
      "provenance": []
    },
    "kernelspec": {
      "name": "python3",
      "display_name": "Python 3"
    },
    "language_info": {
      "name": "python"
    }
  },
  "cells": [
    {
      "cell_type": "markdown",
      "source": [
        "Q1) Write a program to create a NumPy 1D-array with 5 elements and perform basic\n",
        "operations like:\n",
        "\n"
      ],
      "metadata": {
        "id": "cFOwzCtkfeRw"
      }
    },
    {
      "cell_type": "markdown",
      "source": [
        "a) Addition of 2 in all the element"
      ],
      "metadata": {
        "id": "wjQKr_HIDiy-"
      }
    },
    {
      "cell_type": "code",
      "source": [
        "import numpy as np\n",
        "arr = np.array([2,4,6,7,9])\n",
        "add_result = arr + 2\n",
        "print(\"Original Array:\",arr)\n",
        "print(\"Array after adding 2:\", add_result)"
      ],
      "metadata": {
        "colab": {
          "base_uri": "https://localhost:8080/"
        },
        "id": "L7tL9vvJfddS",
        "outputId": "131e71e4-1308-4afb-a6c6-c605649cbcd2"
      },
      "execution_count": null,
      "outputs": [
        {
          "output_type": "stream",
          "name": "stdout",
          "text": [
            "Original Array: [ 2  4  6  7  9 10]\n",
            "Array after adding 2: [ 4  6  8  9 11 12]\n"
          ]
        }
      ]
    },
    {
      "cell_type": "markdown",
      "source": [
        "b) Multiply 3 with all the elements"
      ],
      "metadata": {
        "id": "QxOnmbMhDmSb"
      }
    },
    {
      "cell_type": "code",
      "execution_count": null,
      "metadata": {
        "colab": {
          "base_uri": "https://localhost:8080/"
        },
        "id": "Zv5hlRvEfRR2",
        "outputId": "fc784e00-88a5-46ae-d613-1903b99bd98f"
      },
      "outputs": [
        {
          "output_type": "stream",
          "name": "stdout",
          "text": [
            "Original Array: [ 2  4  6  7  9 10]\n",
            "Array after multiplying 3: [ 6 12 18 21 27 30]\n"
          ]
        }
      ],
      "source": [
        "arr = np.array([2,4,6,7,9])\n",
        "multiply_result = arr * 3\n",
        "print(\"Original Array:\",arr)\n",
        "print(\"Array after multiplying 3:\", multiply_result)"
      ]
    },
    {
      "cell_type": "markdown",
      "source": [
        "c) Divide every element by 2"
      ],
      "metadata": {
        "id": "5C8sT4rmDp4g"
      }
    },
    {
      "cell_type": "code",
      "source": [
        "arr = np.array([2,4,6,7,9])\n",
        "divide_result = arr / 2\n",
        "print(\"Original Array:\",arr)\n",
        "print(\"Array after dividing by 2:\", divide_result)"
      ],
      "metadata": {
        "id": "krqMfOL4ls8m",
        "colab": {
          "base_uri": "https://localhost:8080/"
        },
        "outputId": "4ef790f9-0920-427a-e737-367f4d5eabac"
      },
      "execution_count": null,
      "outputs": [
        {
          "output_type": "stream",
          "name": "stdout",
          "text": [
            "Original Array: [2 4 6 7 9]\n",
            "Array after dividing by 2: [1.  2.  3.  3.5 4.5]\n"
          ]
        }
      ]
    }
  ]
}