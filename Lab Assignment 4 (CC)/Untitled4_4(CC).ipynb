{
  "nbformat": 4,
  "nbformat_minor": 0,
  "metadata": {
    "colab": {
      "provenance": []
    },
    "kernelspec": {
      "name": "python3",
      "display_name": "Python 3"
    },
    "language_info": {
      "name": "python"
    }
  },
  "cells": [
    {
      "cell_type": "markdown",
      "source": [
        "Q4) Write program to create an 1-D NumPy array named <<Your Name>> with evenly\n",
        "spaced 25 numbers from 10 to 100 using linspace(). Print the dimensions of the array, shape, total elements, the data type of each element and total number of bytes consumed by the array. Find the transpose of this array using reshape() attribute. Can we do the same with T attribute?"
      ],
      "metadata": {
        "id": "k1n8fMIlGV99"
      }
    },
    {
      "cell_type": "code",
      "execution_count": null,
      "metadata": {
        "colab": {
          "base_uri": "https://localhost:8080/"
        },
        "id": "TEToDcGZGTPt",
        "outputId": "26e209fc-c1d1-46d9-d687-643a6b902d84"
      },
      "outputs": [
        {
          "output_type": "stream",
          "name": "stdout",
          "text": [
            "1-D Array:\n",
            "[ 10.    13.75  17.5   21.25  25.    28.75  32.5   36.25  40.    43.75\n",
            "  47.5   51.25  55.    58.75  62.5   66.25  70.    73.75  77.5   81.25\n",
            "  85.    88.75  92.5   96.25 100.  ]\n",
            "\n",
            "Array Information:\n",
            "Dimensions: 1\n",
            "Shape: (25,)\n",
            "Total elements: 25\n",
            "Data type of each element: float64\n",
            "Total number of bytes: 200\n",
            "\n",
            "Transposed array using reshape:\n",
            "[[ 10.  ]\n",
            " [ 13.75]\n",
            " [ 17.5 ]\n",
            " [ 21.25]\n",
            " [ 25.  ]\n",
            " [ 28.75]\n",
            " [ 32.5 ]\n",
            " [ 36.25]\n",
            " [ 40.  ]\n",
            " [ 43.75]\n",
            " [ 47.5 ]\n",
            " [ 51.25]\n",
            " [ 55.  ]\n",
            " [ 58.75]\n",
            " [ 62.5 ]\n",
            " [ 66.25]\n",
            " [ 70.  ]\n",
            " [ 73.75]\n",
            " [ 77.5 ]\n",
            " [ 81.25]\n",
            " [ 85.  ]\n",
            " [ 88.75]\n",
            " [ 92.5 ]\n",
            " [ 96.25]\n",
            " [100.  ]]\n",
            "\n",
            "Transposed array using T attribute:\n",
            "[ 10.    13.75  17.5   21.25  25.    28.75  32.5   36.25  40.    43.75\n",
            "  47.5   51.25  55.    58.75  62.5   66.25  70.    73.75  77.5   81.25\n",
            "  85.    88.75  92.5   96.25 100.  ]\n"
          ]
        }
      ],
      "source": [
        "import numpy as np\n",
        "# Create a 1-D array with 25 evenly spaced numbers from 10 to 100\n",
        "your_name = np.linspace(10, 100, 25)\n",
        "\n",
        "print(\"1-D Array:\")\n",
        "print(your_name)\n",
        "print(\"\\nArray Information:\")\n",
        "print(\"Dimensions:\", your_name.ndim)\n",
        "print(\"Shape:\", your_name.shape)\n",
        "print(\"Total elements:\", your_name.size)\n",
        "print(\"Data type of each element:\", your_name.dtype)\n",
        "print(\"Total number of bytes:\", your_name.nbytes)\n",
        "\n",
        "# Transpose the array using reshape\n",
        "transposed_array = your_name.reshape((25, 1))\n",
        "print(\"\\nTransposed array using reshape:\")\n",
        "print(transposed_array)\n",
        "\n",
        "# Transpose the array using T attribute\n",
        "transposed_array_t = your_name.T\n",
        "print(\"\\nTransposed array using T attribute:\")\n",
        "print(transposed_array_t)\n"
      ]
    }
  ]
}