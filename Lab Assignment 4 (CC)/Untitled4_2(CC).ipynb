{
  "nbformat": 4,
  "nbformat_minor": 0,
  "metadata": {
    "colab": {
      "provenance": []
    },
    "kernelspec": {
      "name": "python3",
      "display_name": "Python 3"
    },
    "language_info": {
      "name": "python"
    }
  },
  "cells": [
    {
      "cell_type": "markdown",
      "source": [
        "Q2) Questions on Basic NumPy Array:\n",
        "\n",
        "a) Reverse the NumPy array: arr = np.array([1, 2, 3, 6, 4, 5])"
      ],
      "metadata": {
        "id": "AO1w-dUCD4B-"
      }
    },
    {
      "cell_type": "code",
      "execution_count": null,
      "metadata": {
        "colab": {
          "base_uri": "https://localhost:8080/"
        },
        "id": "xMry1UsNg9g7",
        "outputId": "4f15d213-787f-49d0-b3e8-33f53c6ad809"
      },
      "outputs": [
        {
          "output_type": "stream",
          "name": "stdout",
          "text": [
            "Original Array: [1 2 3 6 4 5]\n",
            "Reversed Array: [5 4 6 3 2 1]\n"
          ]
        }
      ],
      "source": [
        "import numpy as np\n",
        "arr = np.array([1,2,3,6,4,5])\n",
        "reversed_array = arr[::-1]\n",
        "print(\"Original Array:\",arr)\n",
        "print(\"Reversed Array:\",reversed_array)"
      ]
    },
    {
      "cell_type": "code",
      "source": [
        "arr = np.array([1,2,3,6,4,5])\n",
        "reversed_array = np.flip(arr)\n",
        "print(\"Original Array:\",arr)\n",
        "print(\"Reversed Array using np.flip():\",reversed_array)"
      ],
      "metadata": {
        "colab": {
          "base_uri": "https://localhost:8080/"
        },
        "id": "Yz_ehgdJidXq",
        "outputId": "9a3a5f81-7d93-48e5-f621-73000ebf24fe"
      },
      "execution_count": null,
      "outputs": [
        {
          "output_type": "stream",
          "name": "stdout",
          "text": [
            "Original Array: [1 2 3 6 4 5]\n",
            "Reversed Array using np.flip(): [5 4 6 3 2 1]\n"
          ]
        }
      ]
    },
    {
      "cell_type": "markdown",
      "source": [
        "b) Find the most frequent value and their indice(s) in the following arrays:\n",
        "\n",
        "i. x = np.array([1,2,3,4,5,1,2,1,1,1])\n",
        "\n"
      ],
      "metadata": {
        "id": "SAi09P2mD8b0"
      }
    },
    {
      "cell_type": "code",
      "source": [
        "import numpy as np\n",
        "x = np.array([1, 2, 3, 4, 5, 1, 2, 1, 1, 1])\n",
        "unique_values, counts = np.unique(x, return_counts=True)\n",
        "max_count = np.max(counts)\n",
        "most_frequent_values = unique_values[counts == max_count]\n",
        "indices = [np.where(x == value)[0] for value in most_frequent_values]\n",
        "\n",
        "print(\"Most frequent value(s):\", most_frequent_values)\n",
        "print(\"Their indices:\", indices)\n"
      ],
      "metadata": {
        "id": "kMgyEjtmiuyl",
        "colab": {
          "base_uri": "https://localhost:8080/"
        },
        "outputId": "495ddea7-749d-4c56-b12c-9ab8529ef1f9"
      },
      "execution_count": 1,
      "outputs": [
        {
          "output_type": "stream",
          "name": "stdout",
          "text": [
            "Most frequent value(s): [1]\n",
            "Their indices: [array([0, 5, 7, 8, 9])]\n"
          ]
        }
      ]
    },
    {
      "cell_type": "markdown",
      "source": [
        "ii. y = np.array([1, 1, 1, 2, 3, 4, 2, 4, 3, 3, ])"
      ],
      "metadata": {
        "id": "EvTMViDsE9OF"
      }
    },
    {
      "cell_type": "code",
      "source": [
        "y = np.array([1, 1, 1, 2, 3, 4, 2, 4, 3, 3])\n",
        "unique_values_y, counts_y = np.unique(y, return_counts=True)\n",
        "max_count_y = np.max(counts_y)\n",
        "most_frequent_values_y = unique_values_y[counts_y == max_count_y]\n",
        "indices_y = [np.where(y == value)[0] for value in most_frequent_values_y]\n",
        "\n",
        "print(\"Most frequent value(s) in y:\", most_frequent_values_y)\n",
        "print(\"Their indices in y:\", indices_y)\n"
      ],
      "metadata": {
        "colab": {
          "base_uri": "https://localhost:8080/"
        },
        "id": "YLeQ-PNDE8sG",
        "outputId": "89e151e9-82d3-437a-9e57-48c26b5941ea"
      },
      "execution_count": 2,
      "outputs": [
        {
          "output_type": "stream",
          "name": "stdout",
          "text": [
            "Most frequent value(s) in y: [1 3]\n",
            "Their indices in y: [array([0, 1, 2]), array([4, 8, 9])]\n"
          ]
        }
      ]
    }
  ]
}