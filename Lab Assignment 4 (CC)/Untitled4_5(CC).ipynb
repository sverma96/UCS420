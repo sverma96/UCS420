{
  "nbformat": 4,
  "nbformat_minor": 0,
  "metadata": {
    "colab": {
      "provenance": []
    },
    "kernelspec": {
      "name": "python3",
      "display_name": "Python 3"
    },
    "language_info": {
      "name": "python"
    }
  },
  "cells": [
    {
      "cell_type": "markdown",
      "source": [
        "Q5) Create a 2-D Array of three rows and four columns, named ucs420_<your_name>\n",
        "with following values – 10, 20, 30, 40, 50, 60, 70, 80, 90, 15, 20, 35. Compute the mean,\n",
        "median, max, min, unique elements. Reshape the array to four rows and three columns and\n",
        "name it as reshaped_ ucs420_<your_name>. Resize the array to two rows and three\n",
        "columns and name it as resized_ ucs420_<your_name>."
      ],
      "metadata": {
        "id": "TclkUIvBHb0K"
      }
    },
    {
      "cell_type": "code",
      "execution_count": null,
      "metadata": {
        "colab": {
          "base_uri": "https://localhost:8080/"
        },
        "id": "SoZ07Km2HZY-",
        "outputId": "3e539053-7a3a-41ed-a38d-671313dfa8d9"
      },
      "outputs": [
        {
          "output_type": "stream",
          "name": "stdout",
          "text": [
            "Mean: 43.333333333333336\n",
            "Median: 37.5\n",
            "Max: 90\n",
            "Min: 10\n",
            "Unique elements: [10 15 20 30 35 40 50 60 70 80 90]\n",
            "\n",
            "Reshaped array (4 rows and 3 columns):\n",
            "[[10 20 30]\n",
            " [40 50 60]\n",
            " [70 80 90]\n",
            " [15 20 35]]\n",
            "\n",
            "Resized array (2 rows and 3 columns):\n",
            "[[10 20 30]\n",
            " [40 50 60]]\n"
          ]
        }
      ],
      "source": [
        "import numpy as np\n",
        "\n",
        "# Create the 2-D array ucs420_<your_name> with 3 rows and 4 columns\n",
        "ucs420_your_name = np.array([[10, 20, 30, 40],\n",
        "                             [50, 60, 70, 80],\n",
        "                             [90, 15, 20, 35]])\n",
        "\n",
        "# Compute mean, median, max, min, and unique elements\n",
        "mean_value = np.mean(ucs420_your_name)\n",
        "median_value = np.median(ucs420_your_name)\n",
        "max_value = np.max(ucs420_your_name)\n",
        "min_value = np.min(ucs420_your_name)\n",
        "unique_elements = np.unique(ucs420_your_name)\n",
        "\n",
        "# Print the computed statistics\n",
        "print(\"Mean:\", mean_value)\n",
        "print(\"Median:\", median_value)\n",
        "print(\"Max:\", max_value)\n",
        "print(\"Min:\", min_value)\n",
        "print(\"Unique elements:\", unique_elements)\n",
        "\n",
        "# Reshape the array to 4 rows and 3 columns\n",
        "reshaped_ucs420_your_name = ucs420_your_name.reshape(4, 3)\n",
        "print(\"\\nReshaped array (4 rows and 3 columns):\")\n",
        "print(reshaped_ucs420_your_name)\n",
        "\n",
        "# Resize the array to 2 rows and 3 columns using np.resize()\n",
        "resized_ucs420_your_name = np.resize(ucs420_your_name, (2, 3))\n",
        "print(\"\\nResized array (2 rows and 3 columns):\")\n",
        "print(resized_ucs420_your_name)\n",
        "\n"
      ]
    }
  ]
}