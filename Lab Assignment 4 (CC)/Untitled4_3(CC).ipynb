{
  "nbformat": 4,
  "nbformat_minor": 0,
  "metadata": {
    "colab": {
      "provenance": []
    },
    "kernelspec": {
      "name": "python3",
      "display_name": "Python 3"
    },
    "language_info": {
      "name": "python"
    }
  },
  "cells": [
    {
      "cell_type": "markdown",
      "source": [
        "Q3) For the given 2-D array arr=np.array([10, 20, 30], [40, 50, 60], [70, 80, 90]), access elements using row and column indices as follows:"
      ],
      "metadata": {
        "id": "F9XufJiWFeO5"
      }
    },
    {
      "cell_type": "markdown",
      "source": [
        "a) Access 1st row, 2nd column"
      ],
      "metadata": {
        "id": "f78kuAPPFj3W"
      }
    },
    {
      "cell_type": "code",
      "execution_count": 1,
      "metadata": {
        "colab": {
          "base_uri": "https://localhost:8080/"
        },
        "id": "-HJ6WgPLFaiL",
        "outputId": "b13400f1-bc80-4d6e-ca0e-26c49f434ea5"
      },
      "outputs": [
        {
          "output_type": "stream",
          "name": "stdout",
          "text": [
            "Element at 1st row, 2nd column: 20\n"
          ]
        }
      ],
      "source": [
        "import numpy as np\n",
        "arr = np.array([[10, 20, 30], [40, 50, 60], [70, 80, 90]])\n",
        "element_1 = arr[0, 1]\n",
        "\n",
        "print(\"Element at 1st row, 2nd column:\", element_1)"
      ]
    },
    {
      "cell_type": "markdown",
      "source": [
        "b) Access 3rd row, 1st column"
      ],
      "metadata": {
        "id": "zBmnxtVuGBje"
      }
    },
    {
      "cell_type": "code",
      "source": [
        "import numpy as np\n",
        "arr = np.array([[10, 20, 30], [40, 50, 60], [70, 80, 90]])\n",
        "element_2 = arr[2, 0]\n",
        "\n",
        "print(\"Element at 3rd row, 1st column:\", element_2)"
      ],
      "metadata": {
        "colab": {
          "base_uri": "https://localhost:8080/"
        },
        "id": "0P1EJuloGAzI",
        "outputId": "48c1e5ab-7f1e-43f6-adbd-d503608d6a06"
      },
      "execution_count": 2,
      "outputs": [
        {
          "output_type": "stream",
          "name": "stdout",
          "text": [
            "Element at 3rd row, 1st column: 70\n"
          ]
        }
      ]
    }
  ]
}