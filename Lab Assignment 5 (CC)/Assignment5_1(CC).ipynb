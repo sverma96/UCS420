{
  "nbformat": 4,
  "nbformat_minor": 0,
  "metadata": {
    "colab": {
      "provenance": []
    },
    "kernelspec": {
      "name": "python3",
      "display_name": "Python 3"
    },
    "language_info": {
      "name": "python"
    }
  },
  "cells": [
    {
      "cell_type": "markdown",
      "source": [
        "Q1) For the array gfg = np.matrix('[4, 1, 9; 12, 3, 1; 4, 5, 6]'), Find"
      ],
      "metadata": {
        "id": "sD0ue_wsVQvs"
      }
    },
    {
      "cell_type": "markdown",
      "source": [
        "i. Sum of all elements"
      ],
      "metadata": {
        "id": "SRdDMWhAVdud"
      }
    },
    {
      "cell_type": "code",
      "execution_count": 1,
      "metadata": {
        "colab": {
          "base_uri": "https://localhost:8080/"
        },
        "id": "gzl_oLMGVASb",
        "outputId": "8a6cea53-8e86-4313-ec91-b8f73250371e"
      },
      "outputs": [
        {
          "output_type": "stream",
          "name": "stdout",
          "text": [
            "Original matrix: \n",
            " [[ 4  1  9]\n",
            " [12  3  1]\n",
            " [ 4  5  6]]\n",
            "\n",
            "Sum of all elements:  45\n"
          ]
        }
      ],
      "source": [
        "import numpy as np\n",
        "gfg = np.matrix('[4, 1, 9; 12, 3, 1; 4, 5, 6]')\n",
        "print(\"Original matrix: \\n\", gfg)\n",
        "print(\"\\nSum of all elements: \", np.sum(gfg))"
      ]
    },
    {
      "cell_type": "markdown",
      "source": [
        "ii. Sum of all elements row-wise"
      ],
      "metadata": {
        "id": "OxqbIZNOV_HQ"
      }
    },
    {
      "cell_type": "code",
      "source": [
        "gfg = np.matrix('[4, 1, 9; 12, 3, 1; 4, 5, 6]')\n",
        "print(\"Original matrix: \\n\", gfg)\n",
        "print(\"\\nSum of all elements row-wise: \\n\", np.sum(gfg, axis=1))"
      ],
      "metadata": {
        "colab": {
          "base_uri": "https://localhost:8080/"
        },
        "id": "7NOQ4i4PV-jO",
        "outputId": "d6e200d3-0978-4d8d-d885-5da8e9d15195"
      },
      "execution_count": 2,
      "outputs": [
        {
          "output_type": "stream",
          "name": "stdout",
          "text": [
            "Original matrix: \n",
            " [[ 4  1  9]\n",
            " [12  3  1]\n",
            " [ 4  5  6]]\n",
            "\n",
            "Sum of all elements row-wise: \n",
            " [[14]\n",
            " [16]\n",
            " [15]]\n"
          ]
        }
      ]
    },
    {
      "cell_type": "markdown",
      "source": [
        "iii. Sum of all elements column-wise"
      ],
      "metadata": {
        "id": "517zE0bNWPse"
      }
    },
    {
      "cell_type": "code",
      "source": [
        "gfg = np.matrix('[4, 1, 9; 12, 3, 1; 4, 5, 6]')\n",
        "print(\"Original matrix: \\n\", gfg)\n",
        "print(\"\\nSum of all elements column-wise: \", np.sum(gfg, axis=0))"
      ],
      "metadata": {
        "colab": {
          "base_uri": "https://localhost:8080/"
        },
        "id": "k-nsbeeaWPA9",
        "outputId": "3232b452-a7fe-45ff-ab08-3012a1904aef"
      },
      "execution_count": 3,
      "outputs": [
        {
          "output_type": "stream",
          "name": "stdout",
          "text": [
            "Original matrix: \n",
            " [[ 4  1  9]\n",
            " [12  3  1]\n",
            " [ 4  5  6]]\n",
            "\n",
            "Sum of all elements column-wise:  [[20  9 16]]\n"
          ]
        }
      ]
    }
  ]
}