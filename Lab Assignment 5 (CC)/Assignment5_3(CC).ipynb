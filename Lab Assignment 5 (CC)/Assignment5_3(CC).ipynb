{
  "nbformat": 4,
  "nbformat_minor": 0,
  "metadata": {
    "colab": {
      "provenance": []
    },
    "kernelspec": {
      "name": "python3",
      "display_name": "Python 3"
    },
    "language_info": {
      "name": "python"
    }
  },
  "cells": [
    {
      "cell_type": "markdown",
      "source": [
        "Q3) You are given a weekly sales dataset and need to perform various operations\n",
        "using NumPy broadcasting."
      ],
      "metadata": {
        "id": "F_ZYmo8kaDul"
      }
    },
    {
      "cell_type": "markdown",
      "source": [
        "a) Generate your unique sales dataset:\n",
        "\n",
        "*   Take the sum of the ASCII values of the initials of your first and last name. Call this value X. (If your initials are A B → ASCII sum = 65+66=131 → sales = [131, 181, 231, 281, 331].)\n",
        "*   Create a NumPy array sales with values [X, X+50, X+100, X+150,\n",
        "X+200].\n",
        "\n"
      ],
      "metadata": {
        "id": "pt8wuUu4aW3h"
      }
    },
    {
      "cell_type": "code",
      "execution_count": 1,
      "metadata": {
        "colab": {
          "base_uri": "https://localhost:8080/"
        },
        "id": "bNwj2zioZ-Tn",
        "outputId": "c4e29d54-cead-4945-e649-fe87abbf438d"
      },
      "outputs": [
        {
          "output_type": "stream",
          "name": "stdout",
          "text": [
            "Sales dataset: [144 194 244 294 344]\n"
          ]
        }
      ],
      "source": [
        "import numpy as np\n",
        "\n",
        "# Sum of ASCII values (X)\n",
        "X = 75 + 69\n",
        "\n",
        "# Create sales array\n",
        "sales = np.array([X, X+50, X+100, X+150, X+200])\n",
        "print(\"Sales dataset:\", sales)"
      ]
    },
    {
      "cell_type": "markdown",
      "source": [
        "b) Compute your personalized tax rate as ((X % 5) + 5) / 100.\n",
        "\n",
        "*   Use broadcasting to apply this tax rate to each sales value.\n",
        "\n"
      ],
      "metadata": {
        "id": "gh1TwbifbTRb"
      }
    },
    {
      "cell_type": "code",
      "source": [
        "tax_rate = ((X % 5)+5)/100\n",
        "print(\"Tax rate: \", tax_rate)\n",
        "print(\"Tax added on each sale: \", sales*tax_rate)\n",
        "sales_with_tax = sales *(1+tax_rate)\n",
        "print(\"Sales with tax: \", sales_with_tax)"
      ],
      "metadata": {
        "colab": {
          "base_uri": "https://localhost:8080/"
        },
        "id": "vA7Z6MS-bS6r",
        "outputId": "bf7e96e7-32d5-4767-af6d-31a412a81572"
      },
      "execution_count": 2,
      "outputs": [
        {
          "output_type": "stream",
          "name": "stdout",
          "text": [
            "Tax rate:  0.09\n",
            "Tax added on each sale:  [12.96 17.46 21.96 26.46 30.96]\n",
            "Sales with tax:  [156.96 211.46 265.96 320.46 374.96]\n"
          ]
        }
      ]
    },
    {
      "cell_type": "markdown",
      "source": [
        "c) Adjust sales based on discount:\n",
        "\n",
        "\n",
        "*   If sales < X+100, apply a 5% discount.\n",
        "*   If sales >= X+100, apply a 10% discount.\n"
      ],
      "metadata": {
        "id": "kjtZ36j4cI9j"
      }
    },
    {
      "cell_type": "code",
      "source": [
        "discounted_sales = np.where(sales < X + 100, sales * 0.95, sales * 0.90)\n",
        "print(\"Discounted sales:\", discounted_sales)"
      ],
      "metadata": {
        "colab": {
          "base_uri": "https://localhost:8080/"
        },
        "id": "1jGPHAVmcIhe",
        "outputId": "a43f33f9-5b83-4e44-a1b9-a214e262fafb"
      },
      "execution_count": 3,
      "outputs": [
        {
          "output_type": "stream",
          "name": "stdout",
          "text": [
            "Discounted sales: [136.8 184.3 219.6 264.6 309.6]\n"
          ]
        }
      ]
    },
    {
      "cell_type": "markdown",
      "source": [
        "d) Expand sales data for multiple weeks:\n",
        "\n",
        "*   Create a 3×5 matrix representing three weeks of sales by stacking\n",
        "sales three times using broadcasting.\n",
        "*  Increase sales by 2% per week using element-wise broadcasting.\n",
        "\n"
      ],
      "metadata": {
        "id": "puR63wQ5dGcW"
      }
    },
    {
      "cell_type": "code",
      "source": [
        "weeks_sales = np.tile(sales, (3,1))\n",
        "print(\"Sales for three weeks:\\n\", weeks_sales)\n",
        "\n",
        "#increase sales by 2% per week\n",
        "weeks_sales = weeks_sales * 1.02 ** np.arange(3).reshape(3, 1)\n",
        "print(\"\\nSales after 2% increase per week:\\n\", weeks_sales)"
      ],
      "metadata": {
        "colab": {
          "base_uri": "https://localhost:8080/"
        },
        "id": "X5_32VBWdF5j",
        "outputId": "25840621-f5b7-4820-c86a-0734754eb809"
      },
      "execution_count": 4,
      "outputs": [
        {
          "output_type": "stream",
          "name": "stdout",
          "text": [
            "Sales for three weeks:\n",
            " [[144 194 244 294 344]\n",
            " [144 194 244 294 344]\n",
            " [144 194 244 294 344]]\n",
            "\n",
            "Sales after 2% increase per week:\n",
            " [[144.     194.     244.     294.     344.    ]\n",
            " [146.88   197.88   248.88   299.88   350.88  ]\n",
            " [149.8176 201.8376 253.8576 305.8776 357.8976]]\n"
          ]
        }
      ]
    }
  ]
}