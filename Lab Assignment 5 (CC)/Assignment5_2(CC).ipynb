{
  "nbformat": 4,
  "nbformat_minor": 0,
  "metadata": {
    "colab": {
      "provenance": []
    },
    "kernelspec": {
      "name": "python3",
      "display_name": "Python 3"
    },
    "language_info": {
      "name": "python"
    }
  },
  "cells": [
    {
      "cell_type": "markdown",
      "source": [
        "Q2) (a) For the array: array = np.array([10, 52, 62, 16, 16, 54, 453]), Find"
      ],
      "metadata": {
        "id": "27Kyey8yWoFS"
      }
    },
    {
      "cell_type": "markdown",
      "source": [
        "i. Sorted array"
      ],
      "metadata": {
        "id": "d6nf_td6WvGy"
      }
    },
    {
      "cell_type": "code",
      "execution_count": 9,
      "metadata": {
        "colab": {
          "base_uri": "https://localhost:8080/"
        },
        "id": "pqO4dqgcWi_M",
        "outputId": "a7fd02d8-8450-4ef5-f302-9fbea33c9db5"
      },
      "outputs": [
        {
          "output_type": "stream",
          "name": "stdout",
          "text": [
            "Original array:  [ 10  52  62  16  16  54 453]\n",
            "Sorted array: [ 10  16  16  52  54  62 453]\n"
          ]
        }
      ],
      "source": [
        "import numpy as np\n",
        "array = np.array([10, 52, 62, 16, 16, 54, 453])\n",
        "print(\"Original array: \",array)\n",
        "sorted_array = np.sort(array)\n",
        "print(\"Sorted array:\", sorted_array)"
      ]
    },
    {
      "cell_type": "markdown",
      "source": [
        "ii. Indices of sorted array"
      ],
      "metadata": {
        "id": "tdlaS051YbWc"
      }
    },
    {
      "cell_type": "code",
      "source": [
        "array = np.array([10, 52, 62, 16, 16, 54, 453])\n",
        "print(\"Original array: \",array)\n",
        "sorted_indices = np.argsort(array)\n",
        "print(\"Indices of sorted array:\", sorted_indices)"
      ],
      "metadata": {
        "colab": {
          "base_uri": "https://localhost:8080/"
        },
        "id": "bLEENzILYavv",
        "outputId": "8fdcb539-38f1-4db3-a05a-69a7c66b8f7d"
      },
      "execution_count": 10,
      "outputs": [
        {
          "output_type": "stream",
          "name": "stdout",
          "text": [
            "Original array:  [ 10  52  62  16  16  54 453]\n",
            "Indices of sorted array: [0 3 4 1 5 2 6]\n"
          ]
        }
      ]
    },
    {
      "cell_type": "markdown",
      "source": [
        "iii. 4 smallest elements"
      ],
      "metadata": {
        "id": "OJH5pAD4Ywyc"
      }
    },
    {
      "cell_type": "code",
      "source": [
        "array = np.array([10, 52, 62, 16, 16, 54, 453])\n",
        "print(\"Original array: \",array)\n",
        "smallest_elements = sorted_array[:4]\n",
        "print(\"4 smallest elements:\", smallest_elements)"
      ],
      "metadata": {
        "colab": {
          "base_uri": "https://localhost:8080/"
        },
        "id": "M2WQ5-NeYt87",
        "outputId": "51230717-70d2-4787-ba78-18381c56d0a6"
      },
      "execution_count": 11,
      "outputs": [
        {
          "output_type": "stream",
          "name": "stdout",
          "text": [
            "Original array:  [ 10  52  62  16  16  54 453]\n",
            "4 smallest elements: [10 16 16 52]\n"
          ]
        }
      ]
    },
    {
      "cell_type": "markdown",
      "source": [
        "iv. 5 largest elements"
      ],
      "metadata": {
        "id": "JfPcjbCmY9Ay"
      }
    },
    {
      "cell_type": "code",
      "source": [
        "array = np.array([10, 52, 62, 16, 16, 54, 453])\n",
        "print(\"Original array: \",array)\n",
        "largest_elements = sorted_array[-5:]\n",
        "print(\"5 largest elements:\", largest_elements)"
      ],
      "metadata": {
        "colab": {
          "base_uri": "https://localhost:8080/"
        },
        "id": "bpHhFWBZY8W_",
        "outputId": "dfdcb8c6-f379-4169-dc3c-4b75c59dbac5"
      },
      "execution_count": 12,
      "outputs": [
        {
          "output_type": "stream",
          "name": "stdout",
          "text": [
            "Original array:  [ 10  52  62  16  16  54 453]\n",
            "5 largest elements: [ 16  52  54  62 453]\n"
          ]
        }
      ]
    },
    {
      "cell_type": "markdown",
      "source": [
        "(b) For the array: array = np.array([1.0, 1.2, 2.2, 2.0, 3.0, 2.0]), Find"
      ],
      "metadata": {
        "id": "MsbYFXvUZRkb"
      }
    },
    {
      "cell_type": "markdown",
      "source": [
        "i. Integer elements only"
      ],
      "metadata": {
        "id": "yS7OjSfCZUGl"
      }
    },
    {
      "cell_type": "code",
      "source": [
        "array_b = np.array([1.0, 1.1, 2.2, 2.0, 3.0, 2.0])\n",
        "print(\"Original array: \", array_b)\n",
        "print(\"Integer elements only: \", array_b[array_b == array_b.astype(int)])"
      ],
      "metadata": {
        "colab": {
          "base_uri": "https://localhost:8080/"
        },
        "id": "X06xa8tVZREM",
        "outputId": "67654750-11d3-473e-ef70-99e956e8cb71"
      },
      "execution_count": 14,
      "outputs": [
        {
          "output_type": "stream",
          "name": "stdout",
          "text": [
            "Original array:  [1.  1.1 2.2 2.  3.  2. ]\n",
            "Integer elements only:  [1. 2. 3. 2.]\n"
          ]
        }
      ]
    },
    {
      "cell_type": "markdown",
      "source": [
        "ii. Float elements only"
      ],
      "metadata": {
        "id": "Mk2k-ARkZgxc"
      }
    },
    {
      "cell_type": "code",
      "source": [
        "array_b = np.array([1.0, 1.1, 2.2, 2.0, 3.0, 2.0])\n",
        "print(\"Original array: \", array_b)\n",
        "print(\"Float elements only: \", array_b[array_b != array_b.astype(int)])\n"
      ],
      "metadata": {
        "colab": {
          "base_uri": "https://localhost:8080/"
        },
        "id": "ySVB93fTZgS1",
        "outputId": "057d6dd9-bdc9-4ba6-a435-2c3c636a022e"
      },
      "execution_count": 15,
      "outputs": [
        {
          "output_type": "stream",
          "name": "stdout",
          "text": [
            "Original array:  [1.  1.1 2.2 2.  3.  2. ]\n",
            "Float elements only:  [1.1 2.2]\n"
          ]
        }
      ]
    }
  ]
}