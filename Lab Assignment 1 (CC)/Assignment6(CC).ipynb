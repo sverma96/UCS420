{
  "nbformat": 4,
  "nbformat_minor": 0,
  "metadata": {
    "colab": {
      "provenance": []
    },
    "kernelspec": {
      "name": "python3",
      "display_name": "Python 3"
    },
    "language_info": {
      "name": "python"
    }
  },
  "cells": [
    {
      "cell_type": "markdown",
      "source": [
        "Assign 6.1 : WAP using function that add all odd numbers from 1 to n, n is given by the user."
      ],
      "metadata": {
        "id": "tdYXf9AO8bZV"
      }
    },
    {
      "cell_type": "code",
      "execution_count": null,
      "metadata": {
        "colab": {
          "base_uri": "https://localhost:8080/"
        },
        "id": "Le9N2V1h8R6F",
        "outputId": "0678637c-311a-45a2-bf14-bca7aef18c04"
      },
      "outputs": [
        {
          "output_type": "stream",
          "name": "stdout",
          "text": [
            "Enter the value of n:50\n",
            "Sum of odd numbers from 1 to 50 is 625\n"
          ]
        }
      ],
      "source": [
        "def addOdd(n):\n",
        "  sum = 0\n",
        "  for i in range(1 , n+1):\n",
        "    if i%2 != 0:\n",
        "      sum += i\n",
        "  return sum\n",
        "\n",
        "n = int(input(\"Enter the value of n:\"))\n",
        "print(\"Sum of odd numbers from 1 to\", n ,\"is\",addOdd(n))"
      ]
    },
    {
      "cell_type": "markdown",
      "source": [
        "Assign 6.2 : WAP using function that add all prime numbers from 1 to n , n is given by the user."
      ],
      "metadata": {
        "id": "t0AN9fni921W"
      }
    },
    {
      "cell_type": "code",
      "source": [
        "def is_prime(num):\n",
        "  if num<=1:\n",
        "    return False\n",
        "  for i in range(2,int(num**0.5)+1):\n",
        "    if num % i ==0:\n",
        "      return False\n",
        "  return True\n",
        "\n",
        "def sum_prime_numbers(n):\n",
        "  sum = 0\n",
        "  for i in range(2, n+1):\n",
        "    if is_prime(i):\n",
        "      sum += i\n",
        "  return sum\n",
        "\n",
        "n = int(input(\"Enter a positive value of n :\"))\n",
        "if n<2:\n",
        "  print(\"Please enter an integer greater than or equal to 2.\")\n",
        "else:\n",
        "  result = sum_prime_numbers(n)\n",
        "  print(f\"The sum of prime numbers from 1 to {n} is:{result}\")\n",
        "\n"
      ],
      "metadata": {
        "colab": {
          "base_uri": "https://localhost:8080/"
        },
        "id": "FQRPrUF992Fi",
        "outputId": "36826867-ef4b-4551-d993-066065f78c01"
      },
      "execution_count": null,
      "outputs": [
        {
          "output_type": "stream",
          "name": "stdout",
          "text": [
            "Enter a positive value of n :12\n",
            "The sum of prime numbers from 1 to 12 is:28\n"
          ]
        }
      ]
    }
  ]
}