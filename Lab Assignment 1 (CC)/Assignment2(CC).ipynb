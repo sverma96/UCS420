{
  "nbformat": 4,
  "nbformat_minor": 0,
  "metadata": {
    "colab": {
      "provenance": []
    },
    "kernelspec": {
      "name": "python3",
      "display_name": "Python 3"
    },
    "language_info": {
      "name": "python"
    }
  },
  "cells": [
    {
      "cell_type": "markdown",
      "source": [
        "Assign 2.1 : WAP to add three numbers and print the result."
      ],
      "metadata": {
        "id": "4xDsyy5b3pwC"
      }
    },
    {
      "cell_type": "code",
      "execution_count": null,
      "metadata": {
        "colab": {
          "base_uri": "https://localhost:8080/"
        },
        "id": "LgDDlgCLWeRg",
        "outputId": "cd918758-d568-4c31-887b-d9c425335fc6"
      },
      "outputs": [
        {
          "output_type": "stream",
          "name": "stdout",
          "text": [
            "10 + 20 + 30 --> 60\n"
          ]
        }
      ],
      "source": [
        "a = 10\n",
        "b = 20\n",
        "c = 30\n",
        "d = a+b+c\n",
        "print(a, \"+\", b ,\"+\", c ,\"-->\",d)"
      ]
    },
    {
      "cell_type": "markdown",
      "source": [
        "Assign 2.2 : WAP to concatinate three strings and print the result."
      ],
      "metadata": {
        "id": "50_EamFM326w"
      }
    },
    {
      "cell_type": "code",
      "source": [
        "a = \"Hello\"\n",
        "b = \"World\"\n",
        "c = \"!!\"\n",
        "d = a+b+c\n",
        "print(a, \"+\", b ,\"+\", c ,\"-->\",d)"
      ],
      "metadata": {
        "colab": {
          "base_uri": "https://localhost:8080/"
        },
        "id": "c0YhR26HXadA",
        "outputId": "59c986a9-10d0-42e1-cfff-10531d8f0eff"
      },
      "execution_count": null,
      "outputs": [
        {
          "output_type": "stream",
          "name": "stdout",
          "text": [
            "Hello + World + !! --> HelloWorld!!\n"
          ]
        }
      ]
    }
  ]
}