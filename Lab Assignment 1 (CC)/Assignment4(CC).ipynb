{
  "nbformat": 4,
  "nbformat_minor": 0,
  "metadata": {
    "colab": {
      "provenance": []
    },
    "kernelspec": {
      "name": "python3",
      "display_name": "Python 3"
    },
    "language_info": {
      "name": "python"
    }
  },
  "cells": [
    {
      "cell_type": "markdown",
      "source": [
        "Assign 4.1(a) : WAP to print the table of 7"
      ],
      "metadata": {
        "id": "J87gSQDq4K4_"
      }
    },
    {
      "cell_type": "code",
      "execution_count": null,
      "metadata": {
        "colab": {
          "base_uri": "https://localhost:8080/"
        },
        "id": "lolXbhuhYafz",
        "outputId": "e92c3ef1-313f-42c6-a8c0-3aab89ccee16"
      },
      "outputs": [
        {
          "output_type": "stream",
          "name": "stdout",
          "text": [
            "7 * 1 = 7\n",
            "7 * 2 = 14\n",
            "7 * 3 = 21\n",
            "7 * 4 = 28\n",
            "7 * 5 = 35\n",
            "7 * 6 = 42\n",
            "7 * 7 = 49\n",
            "7 * 8 = 56\n",
            "7 * 9 = 63\n",
            "7 * 10 = 70\n"
          ]
        }
      ],
      "source": [
        "for i in range(1,11):\n",
        "  print(7,\"*\", i ,\"=\", i*7)"
      ]
    },
    {
      "cell_type": "markdown",
      "source": [
        "Assign 4.1 (b) : WAP to print the table of 9"
      ],
      "metadata": {
        "id": "WIH3FCF54ZKu"
      }
    },
    {
      "cell_type": "code",
      "source": [
        "for i in range(1,11):\n",
        "  print(9,\"*\", i ,\"=\", i*9)"
      ],
      "metadata": {
        "colab": {
          "base_uri": "https://localhost:8080/"
        },
        "id": "gzlMixMvY6VU",
        "outputId": "af9ea19b-bde6-4460-a5b4-d6eee8959562"
      },
      "execution_count": null,
      "outputs": [
        {
          "output_type": "stream",
          "name": "stdout",
          "text": [
            "9 * 1 = 9\n",
            "9 * 2 = 18\n",
            "9 * 3 = 27\n",
            "9 * 4 = 36\n",
            "9 * 5 = 45\n",
            "9 * 6 = 54\n",
            "9 * 7 = 63\n",
            "9 * 8 = 72\n",
            "9 * 9 = 81\n",
            "9 * 10 = 90\n"
          ]
        }
      ]
    },
    {
      "cell_type": "markdown",
      "source": [
        "Assign 4.2 : WAP tp print the table of n and n is given by user."
      ],
      "metadata": {
        "id": "SQdeaerp4hJU"
      }
    },
    {
      "cell_type": "code",
      "source": [
        "a= int(input(\"Enter a number: \"))\n",
        "for i in range(1,11):\n",
        "  print(a,\"*\", i ,\"=\",i*a)\n"
      ],
      "metadata": {
        "colab": {
          "base_uri": "https://localhost:8080/"
        },
        "id": "7NP4J6neZBK0",
        "outputId": "a315423c-6058-4948-bef1-5eb9b5558fc7"
      },
      "execution_count": null,
      "outputs": [
        {
          "output_type": "stream",
          "name": "stdout",
          "text": [
            "Enter a number: 2\n",
            "2 * 1 = 2\n",
            "2 * 2 = 4\n",
            "2 * 3 = 6\n",
            "2 * 4 = 8\n",
            "2 * 5 = 10\n",
            "2 * 6 = 12\n",
            "2 * 7 = 14\n",
            "2 * 8 = 16\n",
            "2 * 9 = 18\n",
            "2 * 10 = 20\n"
          ]
        }
      ]
    },
    {
      "cell_type": "markdown",
      "source": [
        "Assign 4.3 : WAP to ass all the numbers from 1 to n and n is given by user."
      ],
      "metadata": {
        "id": "QouwZybA4qiO"
      }
    },
    {
      "cell_type": "code",
      "source": [
        "n = int(input(\"Enter a number: \"))\n",
        "for i in range(1,n):\n",
        "  n=n+i\n",
        "print(\"Sum is --->\",n)"
      ],
      "metadata": {
        "colab": {
          "base_uri": "https://localhost:8080/"
        },
        "id": "4AcfvXLVZ51D",
        "outputId": "903865d0-5862-4660-9987-2363cbb12f2f"
      },
      "execution_count": null,
      "outputs": [
        {
          "output_type": "stream",
          "name": "stdout",
          "text": [
            "Enter a number: 3\n",
            "Sum is ---> 6\n"
          ]
        }
      ]
    }
  ]
}