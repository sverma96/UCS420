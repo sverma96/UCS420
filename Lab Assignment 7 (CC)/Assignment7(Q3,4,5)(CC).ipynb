{
  "nbformat": 4,
  "nbformat_minor": 0,
  "metadata": {
    "colab": {
      "provenance": []
    },
    "kernelspec": {
      "name": "python3",
      "display_name": "Python 3"
    },
    "language_info": {
      "name": "python"
    }
  },
  "cells": [
    {
      "cell_type": "markdown",
      "source": [
        "Q.3 For the array: a = np.array([-1.8, -1.6, -0.5, 0.5,1.6, 1.8, 3.0])."
      ],
      "metadata": {
        "id": "ULoQGG8D4K6e"
      }
    },
    {
      "cell_type": "markdown",
      "source": [
        "i. Find floor, ceiling and truncated value, rounded values"
      ],
      "metadata": {
        "id": "BBpDPYJ84Ote"
      }
    },
    {
      "cell_type": "code",
      "execution_count": null,
      "metadata": {
        "colab": {
          "base_uri": "https://localhost:8080/"
        },
        "id": "iswEQIJO28RX",
        "outputId": "cfb7c57a-b3d9-4ea1-853e-9a40fc4a937a"
      },
      "outputs": [
        {
          "output_type": "stream",
          "name": "stdout",
          "text": [
            "Floor Values: [-2. -2. -1.  0.  1.  1.  3.]\n",
            "Ceiling Values: [-1. -1. -0.  1.  2.  2.  3.]\n",
            "Truncated Values: [-1. -1. -0.  0.  1.  1.  3.]\n",
            "Rounded Values: [-2. -2. -0.  0.  2.  2.  3.]\n"
          ]
        }
      ],
      "source": [
        "import numpy as np\n",
        "a = np.array([-1.8, -1.6, -0.5, 0.5, 1.6, 1.8, 3.0])\n",
        "\n",
        "floor_values = np.floor(a)\n",
        "ceiling_values = np.ceil(a)\n",
        "truncated_values = np.trunc(a)\n",
        "rounded_values = np.round(a)\n",
        "\n",
        "print(\"Floor Values:\", floor_values)\n",
        "print(\"Ceiling Values:\", ceiling_values)\n",
        "print(\"Truncated Values:\", truncated_values)\n",
        "print(\"Rounded Values:\", rounded_values)"
      ]
    },
    {
      "cell_type": "markdown",
      "source": [
        "Q.4 WAP to swap two elements in a list in Python Using a Temporary Variable."
      ],
      "metadata": {
        "id": "bYds_wmg4pSf"
      }
    },
    {
      "cell_type": "code",
      "source": [
        "def swap_list_elements(lst, idx1, idx2):\n",
        "    temp = lst[idx1]\n",
        "    lst[idx1] = lst[idx2]\n",
        "    lst[idx2] = temp\n",
        "    return lst\n",
        "\n",
        "list_example = [1, 2, 3, 4, 5]\n",
        "swapped_list = swap_list_elements(list_example, 1, 3)\n",
        "print(\"Swapped List:\", swapped_list)"
      ],
      "metadata": {
        "colab": {
          "base_uri": "https://localhost:8080/"
        },
        "id": "fpiR4PVy4o2N",
        "outputId": "e71a9640-9755-428e-ea6c-b2e839e03feb"
      },
      "execution_count": null,
      "outputs": [
        {
          "output_type": "stream",
          "name": "stdout",
          "text": [
            "Swapped List: [1, 4, 3, 2, 5]\n"
          ]
        }
      ]
    },
    {
      "cell_type": "markdown",
      "source": [
        "Q.5 Write a Python program to swap two elements in a set by converting it to a list first."
      ],
      "metadata": {
        "id": "fd-BT3U54xeZ"
      }
    },
    {
      "cell_type": "code",
      "source": [
        "def swap_set_elements(s, elem1, elem2):\n",
        "    lst = list(s)\n",
        "    idx1, idx2 = lst.index(elem1), lst.index(elem2)\n",
        "    lst[idx1], lst[idx2] = lst[idx2], lst[idx1]\n",
        "    return set(lst)\n",
        "\n",
        "set_example = {10, 20, 30, 40, 50}\n",
        "swapped_set = swap_set_elements(set_example, 20, 40)\n",
        "print(\"Swapped Set:\", swapped_set)\n"
      ],
      "metadata": {
        "colab": {
          "base_uri": "https://localhost:8080/"
        },
        "id": "gr_OnL4A4xB4",
        "outputId": "07498e74-f7e2-447a-f7f0-e6139590b4b9"
      },
      "execution_count": null,
      "outputs": [
        {
          "output_type": "stream",
          "name": "stdout",
          "text": [
            "Swapped Set: {40, 10, 50, 20, 30}\n"
          ]
        }
      ]
    }
  ]
}