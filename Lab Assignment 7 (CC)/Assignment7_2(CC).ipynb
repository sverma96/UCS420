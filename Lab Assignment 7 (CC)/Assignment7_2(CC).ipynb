{
  "cells": [
    {
      "cell_type": "markdown",
      "metadata": {
        "id": "3wSNNWlumG0f"
      },
      "source": [
        "Q.2 For the array: array = np.array([[1, -2, 3],[-4, 5, -6]])"
      ]
    },
    {
      "cell_type": "markdown",
      "source": [
        "i. Find element-wise absolute value"
      ],
      "metadata": {
        "id": "IogFYfnQ3QCk"
      }
    },
    {
      "cell_type": "code",
      "execution_count": null,
      "metadata": {
        "colab": {
          "base_uri": "https://localhost:8080/"
        },
        "id": "SYCi0M0pl_vh",
        "outputId": "ae303876-4eb9-4522-9d7f-b6bbcdce345f"
      },
      "outputs": [
        {
          "output_type": "stream",
          "name": "stdout",
          "text": [
            "[[1 2 3]\n",
            " [4 5 6]]\n"
          ]
        }
      ],
      "source": [
        "import numpy as np\n",
        "array = np.array([[1, -2, 3], [-4, 5, -6]])\n",
        "absolute_array = np.abs(array)\n",
        "print(absolute_array)"
      ]
    },
    {
      "cell_type": "markdown",
      "source": [
        "ii. Find the 25th, 50th, and 75th percentile of flattened array, for each column, for each\n",
        "row."
      ],
      "metadata": {
        "id": "zfzg1MaG3hSn"
      }
    },
    {
      "cell_type": "code",
      "source": [
        "\n",
        "array = np.array([[1, -2, 3], [-4, 5, -6]])\n",
        "\n",
        "flattened_array = array.flatten()\n",
        "\n",
        "# Calculate percentiles of the flattened array\n",
        "percentile_25 = np.percentile(flattened_array, 25)\n",
        "percentile_50 = np.percentile(flattened_array, 50)  # Median\n",
        "percentile_75 = np.percentile(flattened_array, 75)\n",
        "\n",
        "# Output for the flattened array\n",
        "print(f\"25th percentile (flattened array): {percentile_25}\")\n",
        "print(f\"50th percentile (flattened array - median): {percentile_50}\")\n",
        "print(f\"75th percentile (flattened array): {percentile_75}\")\n",
        "\n",
        "# For each column\n",
        "percentile_25_column = np.percentile(array, 25, axis=0)\n",
        "percentile_50_column = np.percentile(array, 50, axis=0)  # Median for columns\n",
        "percentile_75_column = np.percentile(array, 75, axis=0)\n",
        "\n",
        "# Output for each column\n",
        "print(\"\\nPercentiles for each column:\")\n",
        "print(f\"25th percentile (per column): {percentile_25_column}\")\n",
        "print(f\"50th percentile (per column - median): {percentile_50_column}\")\n",
        "print(f\"75th percentile (per column): {percentile_75_column}\")\n",
        "\n",
        "# For each row\n",
        "percentile_25_row = np.percentile(array, 25, axis=1)\n",
        "percentile_50_row = np.percentile(array, 50, axis=1)  # Median for rows\n",
        "percentile_75_row = np.percentile(array, 75, axis=1)\n",
        "\n",
        "# Output for each row\n",
        "print(\"\\nPercentiles for each row:\")\n",
        "print(f\"25th percentile (per row): {percentile_25_row}\")\n",
        "print(f\"50th percentile (per row - median): {percentile_50_row}\")\n",
        "print(f\"75th percentile (per row): {percentile_75_row}\")"
      ],
      "metadata": {
        "colab": {
          "base_uri": "https://localhost:8080/"
        },
        "id": "J0-Nwwjh3g0V",
        "outputId": "497fb299-75e6-4fed-a5dd-1e0c55427c43"
      },
      "execution_count": null,
      "outputs": [
        {
          "output_type": "stream",
          "name": "stdout",
          "text": [
            "25th percentile (flattened array): -3.5\n",
            "50th percentile (flattened array - median): -0.5\n",
            "75th percentile (flattened array): 2.5\n",
            "\n",
            "Percentiles for each column:\n",
            "25th percentile (per column): [-2.75 -0.25 -3.75]\n",
            "50th percentile (per column - median): [-1.5  1.5 -1.5]\n",
            "75th percentile (per column): [-0.25  3.25  0.75]\n",
            "\n",
            "Percentiles for each row:\n",
            "25th percentile (per row): [-0.5 -5. ]\n",
            "50th percentile (per row - median): [ 1. -4.]\n",
            "75th percentile (per row): [2.  0.5]\n"
          ]
        }
      ]
    },
    {
      "cell_type": "markdown",
      "source": [
        "iii. Mean, Median and Standard Deviation of flattened array, of each column, and\n",
        "each row"
      ],
      "metadata": {
        "id": "zMz5oONu34r4"
      }
    },
    {
      "cell_type": "code",
      "source": [
        "\n",
        "import numpy as np\n",
        "\n",
        "# Given array\n",
        "array = np.array([[1, -2, 3], [-4, 5, -6]])\n",
        "\n",
        "# Flatten the array\n",
        "flattened_array = array.flatten()\n",
        "\n",
        "# Calculate mean, median, and standard deviation of the flattened array\n",
        "mean_flattened = np.mean(flattened_array)\n",
        "median_flattened = np.median(flattened_array)\n",
        "std_flattened = np.std(flattened_array)\n",
        "\n",
        "# Output for the flattened array\n",
        "print(f\"Mean (flattened array): {mean_flattened}\")\n",
        "print(f\"Median (flattened array): {median_flattened}\")\n",
        "print(f\"Standard Deviation (flattened array): {std_flattened}\")\n",
        "\n",
        "# For each column\n",
        "mean_column = np.mean(array, axis=0)\n",
        "median_column = np.median(array, axis=0)\n",
        "std_column = np.std(array, axis=0)\n",
        "\n",
        "# Output for each column\n",
        "print(\"\\nMean, Median, and Standard Deviation for each column:\")\n",
        "print(f\"Mean (per column): {mean_column}\")\n",
        "print(f\"Median (per column): {median_column}\")\n",
        "print(f\"Standard Deviation (per column): {std_column}\")\n",
        "\n",
        "# For each row\n",
        "mean_row = np.mean(array, axis=1)\n",
        "median_row = np.median(array, axis=1)\n",
        "std_row = np.std(array, axis=1)\n",
        "\n",
        "# Output for each row\n",
        "print(\"\\nMean, Median, and Standard Deviation for each row:\")\n",
        "print(f\"Mean (per row): {mean_row}\")\n",
        "print(f\"Median (per row): {median_row}\")\n",
        "print(f\"Standard Deviation (per row): {std_row}\")"
      ],
      "metadata": {
        "colab": {
          "base_uri": "https://localhost:8080/"
        },
        "id": "1ij8YnaI34Q0",
        "outputId": "39492e7d-8562-4041-91e2-d59402890104"
      },
      "execution_count": null,
      "outputs": [
        {
          "output_type": "stream",
          "name": "stdout",
          "text": [
            "Mean (flattened array): -0.5\n",
            "Median (flattened array): -0.5\n",
            "Standard Deviation (flattened array): 3.8622100754188224\n",
            "\n",
            "Mean, Median, and Standard Deviation for each column:\n",
            "Mean (per column): [-1.5  1.5 -1.5]\n",
            "Median (per column): [-1.5  1.5 -1.5]\n",
            "Standard Deviation (per column): [2.5 3.5 4.5]\n",
            "\n",
            "Mean, Median, and Standard Deviation for each row:\n",
            "Mean (per row): [ 0.66666667 -1.66666667]\n",
            "Median (per row): [ 1. -4.]\n",
            "Standard Deviation (per row): [2.05480467 4.78423336]\n"
          ]
        }
      ]
    }
  ],
  "metadata": {
    "colab": {
      "provenance": []
    },
    "kernelspec": {
      "display_name": "Python 3",
      "name": "python3"
    },
    "language_info": {
      "name": "python"
    }
  },
  "nbformat": 4,
  "nbformat_minor": 0
}