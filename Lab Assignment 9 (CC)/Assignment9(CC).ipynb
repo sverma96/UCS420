{
  "nbformat": 4,
  "nbformat_minor": 0,
  "metadata": {
    "colab": {
      "provenance": []
    },
    "kernelspec": {
      "name": "python3",
      "display_name": "Python 3"
    },
    "language_info": {
      "name": "python"
    }
  },
  "cells": [
    {
      "cell_type": "code",
      "execution_count": 3,
      "metadata": {
        "id": "b02IN3CmwzlL",
        "colab": {
          "base_uri": "https://localhost:8080/"
        },
        "outputId": "6a8fe525-a6b8-4937-8ffb-5ff097aa79d0"
      },
      "outputs": [
        {
          "output_type": "stream",
          "name": "stdout",
          "text": [
            "Requirement already satisfied: nltk in /usr/local/lib/python3.11/dist-packages (3.9.1)\n",
            "Requirement already satisfied: click in /usr/local/lib/python3.11/dist-packages (from nltk) (8.1.8)\n",
            "Requirement already satisfied: joblib in /usr/local/lib/python3.11/dist-packages (from nltk) (1.4.2)\n",
            "Requirement already satisfied: regex>=2021.8.3 in /usr/local/lib/python3.11/dist-packages (from nltk) (2024.11.6)\n",
            "Requirement already satisfied: tqdm in /usr/local/lib/python3.11/dist-packages (from nltk) (4.67.1)\n"
          ]
        }
      ],
      "source": [
        "!pip install nltk"
      ]
    },
    {
      "cell_type": "code",
      "source": [
        "import nltk"
      ],
      "metadata": {
        "id": "cW9IYRFYR7nU"
      },
      "execution_count": 4,
      "outputs": []
    },
    {
      "cell_type": "code",
      "source": [
        "nltk.download('all')"
      ],
      "metadata": {
        "colab": {
          "base_uri": "https://localhost:8080/"
        },
        "id": "y8wxXvDJSE0I",
        "outputId": "27d5f773-a9c2-4faf-dcd5-a66b252d4244"
      },
      "execution_count": 5,
      "outputs": [
        {
          "output_type": "stream",
          "name": "stderr",
          "text": [
            "[nltk_data] Downloading collection 'all'\n",
            "[nltk_data]    | \n",
            "[nltk_data]    | Downloading package abc to /root/nltk_data...\n",
            "[nltk_data]    |   Unzipping corpora/abc.zip.\n",
            "[nltk_data]    | Downloading package alpino to /root/nltk_data...\n",
            "[nltk_data]    |   Unzipping corpora/alpino.zip.\n",
            "[nltk_data]    | Downloading package averaged_perceptron_tagger to\n",
            "[nltk_data]    |     /root/nltk_data...\n",
            "[nltk_data]    |   Unzipping taggers/averaged_perceptron_tagger.zip.\n",
            "[nltk_data]    | Downloading package averaged_perceptron_tagger_eng to\n",
            "[nltk_data]    |     /root/nltk_data...\n",
            "[nltk_data]    |   Unzipping\n",
            "[nltk_data]    |       taggers/averaged_perceptron_tagger_eng.zip.\n",
            "[nltk_data]    | Downloading package averaged_perceptron_tagger_ru to\n",
            "[nltk_data]    |     /root/nltk_data...\n",
            "[nltk_data]    |   Unzipping\n",
            "[nltk_data]    |       taggers/averaged_perceptron_tagger_ru.zip.\n",
            "[nltk_data]    | Downloading package averaged_perceptron_tagger_rus to\n",
            "[nltk_data]    |     /root/nltk_data...\n",
            "[nltk_data]    |   Unzipping\n",
            "[nltk_data]    |       taggers/averaged_perceptron_tagger_rus.zip.\n",
            "[nltk_data]    | Downloading package basque_grammars to\n",
            "[nltk_data]    |     /root/nltk_data...\n",
            "[nltk_data]    |   Unzipping grammars/basque_grammars.zip.\n",
            "[nltk_data]    | Downloading package bcp47 to /root/nltk_data...\n",
            "[nltk_data]    | Downloading package biocreative_ppi to\n",
            "[nltk_data]    |     /root/nltk_data...\n",
            "[nltk_data]    |   Unzipping corpora/biocreative_ppi.zip.\n",
            "[nltk_data]    | Downloading package bllip_wsj_no_aux to\n",
            "[nltk_data]    |     /root/nltk_data...\n",
            "[nltk_data]    |   Unzipping models/bllip_wsj_no_aux.zip.\n",
            "[nltk_data]    | Downloading package book_grammars to\n",
            "[nltk_data]    |     /root/nltk_data...\n",
            "[nltk_data]    |   Unzipping grammars/book_grammars.zip.\n",
            "[nltk_data]    | Downloading package brown to /root/nltk_data...\n",
            "[nltk_data]    |   Unzipping corpora/brown.zip.\n",
            "[nltk_data]    | Downloading package brown_tei to /root/nltk_data...\n",
            "[nltk_data]    |   Unzipping corpora/brown_tei.zip.\n",
            "[nltk_data]    | Downloading package cess_cat to /root/nltk_data...\n",
            "[nltk_data]    |   Unzipping corpora/cess_cat.zip.\n",
            "[nltk_data]    | Downloading package cess_esp to /root/nltk_data...\n",
            "[nltk_data]    |   Unzipping corpora/cess_esp.zip.\n",
            "[nltk_data]    | Downloading package chat80 to /root/nltk_data...\n",
            "[nltk_data]    |   Unzipping corpora/chat80.zip.\n",
            "[nltk_data]    | Downloading package city_database to\n",
            "[nltk_data]    |     /root/nltk_data...\n",
            "[nltk_data]    |   Unzipping corpora/city_database.zip.\n",
            "[nltk_data]    | Downloading package cmudict to /root/nltk_data...\n",
            "[nltk_data]    |   Unzipping corpora/cmudict.zip.\n",
            "[nltk_data]    | Downloading package comparative_sentences to\n",
            "[nltk_data]    |     /root/nltk_data...\n",
            "[nltk_data]    |   Unzipping corpora/comparative_sentences.zip.\n",
            "[nltk_data]    | Downloading package comtrans to /root/nltk_data...\n",
            "[nltk_data]    | Downloading package conll2000 to /root/nltk_data...\n",
            "[nltk_data]    |   Unzipping corpora/conll2000.zip.\n",
            "[nltk_data]    | Downloading package conll2002 to /root/nltk_data...\n",
            "[nltk_data]    |   Unzipping corpora/conll2002.zip.\n",
            "[nltk_data]    | Downloading package conll2007 to /root/nltk_data...\n",
            "[nltk_data]    | Downloading package crubadan to /root/nltk_data...\n",
            "[nltk_data]    |   Unzipping corpora/crubadan.zip.\n",
            "[nltk_data]    | Downloading package dependency_treebank to\n",
            "[nltk_data]    |     /root/nltk_data...\n",
            "[nltk_data]    |   Unzipping corpora/dependency_treebank.zip.\n",
            "[nltk_data]    | Downloading package dolch to /root/nltk_data...\n",
            "[nltk_data]    |   Unzipping corpora/dolch.zip.\n",
            "[nltk_data]    | Downloading package english_wordnet to\n",
            "[nltk_data]    |     /root/nltk_data...\n",
            "[nltk_data]    |   Unzipping corpora/english_wordnet.zip.\n",
            "[nltk_data]    | Downloading package europarl_raw to\n",
            "[nltk_data]    |     /root/nltk_data...\n",
            "[nltk_data]    |   Unzipping corpora/europarl_raw.zip.\n",
            "[nltk_data]    | Downloading package extended_omw to\n",
            "[nltk_data]    |     /root/nltk_data...\n",
            "[nltk_data]    | Downloading package floresta to /root/nltk_data...\n",
            "[nltk_data]    |   Unzipping corpora/floresta.zip.\n",
            "[nltk_data]    | Downloading package framenet_v15 to\n",
            "[nltk_data]    |     /root/nltk_data...\n",
            "[nltk_data]    |   Unzipping corpora/framenet_v15.zip.\n",
            "[nltk_data]    | Downloading package framenet_v17 to\n",
            "[nltk_data]    |     /root/nltk_data...\n",
            "[nltk_data]    |   Unzipping corpora/framenet_v17.zip.\n",
            "[nltk_data]    | Downloading package gazetteers to /root/nltk_data...\n",
            "[nltk_data]    |   Unzipping corpora/gazetteers.zip.\n",
            "[nltk_data]    | Downloading package genesis to /root/nltk_data...\n",
            "[nltk_data]    |   Unzipping corpora/genesis.zip.\n",
            "[nltk_data]    | Downloading package gutenberg to /root/nltk_data...\n",
            "[nltk_data]    |   Unzipping corpora/gutenberg.zip.\n",
            "[nltk_data]    | Downloading package ieer to /root/nltk_data...\n",
            "[nltk_data]    |   Unzipping corpora/ieer.zip.\n",
            "[nltk_data]    | Downloading package inaugural to /root/nltk_data...\n",
            "[nltk_data]    |   Unzipping corpora/inaugural.zip.\n",
            "[nltk_data]    | Downloading package indian to /root/nltk_data...\n",
            "[nltk_data]    |   Unzipping corpora/indian.zip.\n",
            "[nltk_data]    | Downloading package jeita to /root/nltk_data...\n",
            "[nltk_data]    | Downloading package kimmo to /root/nltk_data...\n",
            "[nltk_data]    |   Unzipping corpora/kimmo.zip.\n",
            "[nltk_data]    | Downloading package knbc to /root/nltk_data...\n",
            "[nltk_data]    | Downloading package large_grammars to\n",
            "[nltk_data]    |     /root/nltk_data...\n",
            "[nltk_data]    |   Unzipping grammars/large_grammars.zip.\n",
            "[nltk_data]    | Downloading package lin_thesaurus to\n",
            "[nltk_data]    |     /root/nltk_data...\n",
            "[nltk_data]    |   Unzipping corpora/lin_thesaurus.zip.\n",
            "[nltk_data]    | Downloading package mac_morpho to /root/nltk_data...\n",
            "[nltk_data]    |   Unzipping corpora/mac_morpho.zip.\n",
            "[nltk_data]    | Downloading package machado to /root/nltk_data...\n",
            "[nltk_data]    | Downloading package masc_tagged to /root/nltk_data...\n",
            "[nltk_data]    | Downloading package maxent_ne_chunker to\n",
            "[nltk_data]    |     /root/nltk_data...\n",
            "[nltk_data]    |   Unzipping chunkers/maxent_ne_chunker.zip.\n",
            "[nltk_data]    | Downloading package maxent_ne_chunker_tab to\n",
            "[nltk_data]    |     /root/nltk_data...\n",
            "[nltk_data]    |   Unzipping chunkers/maxent_ne_chunker_tab.zip.\n",
            "[nltk_data]    | Downloading package maxent_treebank_pos_tagger to\n",
            "[nltk_data]    |     /root/nltk_data...\n",
            "[nltk_data]    |   Unzipping taggers/maxent_treebank_pos_tagger.zip.\n",
            "[nltk_data]    | Downloading package maxent_treebank_pos_tagger_tab to\n",
            "[nltk_data]    |     /root/nltk_data...\n",
            "[nltk_data]    |   Unzipping\n",
            "[nltk_data]    |       taggers/maxent_treebank_pos_tagger_tab.zip.\n",
            "[nltk_data]    | Downloading package moses_sample to\n",
            "[nltk_data]    |     /root/nltk_data...\n",
            "[nltk_data]    |   Unzipping models/moses_sample.zip.\n",
            "[nltk_data]    | Downloading package movie_reviews to\n",
            "[nltk_data]    |     /root/nltk_data...\n",
            "[nltk_data]    |   Unzipping corpora/movie_reviews.zip.\n",
            "[nltk_data]    | Downloading package mte_teip5 to /root/nltk_data...\n",
            "[nltk_data]    |   Unzipping corpora/mte_teip5.zip.\n",
            "[nltk_data]    | Downloading package mwa_ppdb to /root/nltk_data...\n",
            "[nltk_data]    |   Unzipping misc/mwa_ppdb.zip.\n",
            "[nltk_data]    | Downloading package names to /root/nltk_data...\n",
            "[nltk_data]    |   Unzipping corpora/names.zip.\n",
            "[nltk_data]    | Downloading package nombank.1.0 to /root/nltk_data...\n",
            "[nltk_data]    | Downloading package nonbreaking_prefixes to\n",
            "[nltk_data]    |     /root/nltk_data...\n",
            "[nltk_data]    |   Unzipping corpora/nonbreaking_prefixes.zip.\n",
            "[nltk_data]    | Downloading package nps_chat to /root/nltk_data...\n",
            "[nltk_data]    |   Unzipping corpora/nps_chat.zip.\n",
            "[nltk_data]    | Downloading package omw to /root/nltk_data...\n",
            "[nltk_data]    | Downloading package omw-1.4 to /root/nltk_data...\n",
            "[nltk_data]    | Downloading package opinion_lexicon to\n",
            "[nltk_data]    |     /root/nltk_data...\n",
            "[nltk_data]    |   Unzipping corpora/opinion_lexicon.zip.\n",
            "[nltk_data]    | Downloading package panlex_swadesh to\n",
            "[nltk_data]    |     /root/nltk_data...\n",
            "[nltk_data]    | Downloading package paradigms to /root/nltk_data...\n",
            "[nltk_data]    |   Unzipping corpora/paradigms.zip.\n",
            "[nltk_data]    | Downloading package pe08 to /root/nltk_data...\n",
            "[nltk_data]    |   Unzipping corpora/pe08.zip.\n",
            "[nltk_data]    | Downloading package perluniprops to\n",
            "[nltk_data]    |     /root/nltk_data...\n",
            "[nltk_data]    |   Unzipping misc/perluniprops.zip.\n",
            "[nltk_data]    | Downloading package pil to /root/nltk_data...\n",
            "[nltk_data]    |   Unzipping corpora/pil.zip.\n",
            "[nltk_data]    | Downloading package pl196x to /root/nltk_data...\n",
            "[nltk_data]    |   Unzipping corpora/pl196x.zip.\n",
            "[nltk_data]    | Downloading package porter_test to /root/nltk_data...\n",
            "[nltk_data]    |   Unzipping stemmers/porter_test.zip.\n",
            "[nltk_data]    | Downloading package ppattach to /root/nltk_data...\n",
            "[nltk_data]    |   Unzipping corpora/ppattach.zip.\n",
            "[nltk_data]    | Downloading package problem_reports to\n",
            "[nltk_data]    |     /root/nltk_data...\n",
            "[nltk_data]    |   Unzipping corpora/problem_reports.zip.\n",
            "[nltk_data]    | Downloading package product_reviews_1 to\n",
            "[nltk_data]    |     /root/nltk_data...\n",
            "[nltk_data]    |   Unzipping corpora/product_reviews_1.zip.\n",
            "[nltk_data]    | Downloading package product_reviews_2 to\n",
            "[nltk_data]    |     /root/nltk_data...\n",
            "[nltk_data]    |   Unzipping corpora/product_reviews_2.zip.\n",
            "[nltk_data]    | Downloading package propbank to /root/nltk_data...\n",
            "[nltk_data]    | Downloading package pros_cons to /root/nltk_data...\n",
            "[nltk_data]    |   Unzipping corpora/pros_cons.zip.\n",
            "[nltk_data]    | Downloading package ptb to /root/nltk_data...\n",
            "[nltk_data]    |   Unzipping corpora/ptb.zip.\n",
            "[nltk_data]    | Downloading package punkt to /root/nltk_data...\n",
            "[nltk_data]    |   Unzipping tokenizers/punkt.zip.\n",
            "[nltk_data]    | Downloading package punkt_tab to /root/nltk_data...\n",
            "[nltk_data]    |   Unzipping tokenizers/punkt_tab.zip.\n",
            "[nltk_data]    | Downloading package qc to /root/nltk_data...\n",
            "[nltk_data]    |   Unzipping corpora/qc.zip.\n",
            "[nltk_data]    | Downloading package reuters to /root/nltk_data...\n",
            "[nltk_data]    | Downloading package rslp to /root/nltk_data...\n",
            "[nltk_data]    |   Unzipping stemmers/rslp.zip.\n",
            "[nltk_data]    | Downloading package rte to /root/nltk_data...\n",
            "[nltk_data]    |   Unzipping corpora/rte.zip.\n",
            "[nltk_data]    | Downloading package sample_grammars to\n",
            "[nltk_data]    |     /root/nltk_data...\n",
            "[nltk_data]    |   Unzipping grammars/sample_grammars.zip.\n",
            "[nltk_data]    | Downloading package semcor to /root/nltk_data...\n",
            "[nltk_data]    | Downloading package senseval to /root/nltk_data...\n",
            "[nltk_data]    |   Unzipping corpora/senseval.zip.\n",
            "[nltk_data]    | Downloading package sentence_polarity to\n",
            "[nltk_data]    |     /root/nltk_data...\n",
            "[nltk_data]    |   Unzipping corpora/sentence_polarity.zip.\n",
            "[nltk_data]    | Downloading package sentiwordnet to\n",
            "[nltk_data]    |     /root/nltk_data...\n",
            "[nltk_data]    |   Unzipping corpora/sentiwordnet.zip.\n",
            "[nltk_data]    | Downloading package shakespeare to /root/nltk_data...\n",
            "[nltk_data]    |   Unzipping corpora/shakespeare.zip.\n",
            "[nltk_data]    | Downloading package sinica_treebank to\n",
            "[nltk_data]    |     /root/nltk_data...\n",
            "[nltk_data]    |   Unzipping corpora/sinica_treebank.zip.\n",
            "[nltk_data]    | Downloading package smultron to /root/nltk_data...\n",
            "[nltk_data]    |   Unzipping corpora/smultron.zip.\n",
            "[nltk_data]    | Downloading package snowball_data to\n",
            "[nltk_data]    |     /root/nltk_data...\n",
            "[nltk_data]    | Downloading package spanish_grammars to\n",
            "[nltk_data]    |     /root/nltk_data...\n",
            "[nltk_data]    |   Unzipping grammars/spanish_grammars.zip.\n",
            "[nltk_data]    | Downloading package state_union to /root/nltk_data...\n",
            "[nltk_data]    |   Unzipping corpora/state_union.zip.\n",
            "[nltk_data]    | Downloading package stopwords to /root/nltk_data...\n",
            "[nltk_data]    |   Unzipping corpora/stopwords.zip.\n",
            "[nltk_data]    | Downloading package subjectivity to\n",
            "[nltk_data]    |     /root/nltk_data...\n",
            "[nltk_data]    |   Unzipping corpora/subjectivity.zip.\n",
            "[nltk_data]    | Downloading package swadesh to /root/nltk_data...\n",
            "[nltk_data]    |   Unzipping corpora/swadesh.zip.\n",
            "[nltk_data]    | Downloading package switchboard to /root/nltk_data...\n",
            "[nltk_data]    |   Unzipping corpora/switchboard.zip.\n",
            "[nltk_data]    | Downloading package tagsets to /root/nltk_data...\n",
            "[nltk_data]    |   Unzipping help/tagsets.zip.\n",
            "[nltk_data]    | Downloading package tagsets_json to\n",
            "[nltk_data]    |     /root/nltk_data...\n",
            "[nltk_data]    |   Unzipping help/tagsets_json.zip.\n",
            "[nltk_data]    | Downloading package timit to /root/nltk_data...\n",
            "[nltk_data]    |   Unzipping corpora/timit.zip.\n",
            "[nltk_data]    | Downloading package toolbox to /root/nltk_data...\n",
            "[nltk_data]    |   Unzipping corpora/toolbox.zip.\n",
            "[nltk_data]    | Downloading package treebank to /root/nltk_data...\n",
            "[nltk_data]    |   Unzipping corpora/treebank.zip.\n",
            "[nltk_data]    | Downloading package twitter_samples to\n",
            "[nltk_data]    |     /root/nltk_data...\n",
            "[nltk_data]    |   Unzipping corpora/twitter_samples.zip.\n",
            "[nltk_data]    | Downloading package udhr to /root/nltk_data...\n",
            "[nltk_data]    |   Unzipping corpora/udhr.zip.\n",
            "[nltk_data]    | Downloading package udhr2 to /root/nltk_data...\n",
            "[nltk_data]    |   Unzipping corpora/udhr2.zip.\n",
            "[nltk_data]    | Downloading package unicode_samples to\n",
            "[nltk_data]    |     /root/nltk_data...\n",
            "[nltk_data]    |   Unzipping corpora/unicode_samples.zip.\n",
            "[nltk_data]    | Downloading package universal_tagset to\n",
            "[nltk_data]    |     /root/nltk_data...\n",
            "[nltk_data]    |   Unzipping taggers/universal_tagset.zip.\n",
            "[nltk_data]    | Downloading package universal_treebanks_v20 to\n",
            "[nltk_data]    |     /root/nltk_data...\n",
            "[nltk_data]    | Downloading package vader_lexicon to\n",
            "[nltk_data]    |     /root/nltk_data...\n",
            "[nltk_data]    | Downloading package verbnet to /root/nltk_data...\n",
            "[nltk_data]    |   Unzipping corpora/verbnet.zip.\n",
            "[nltk_data]    | Downloading package verbnet3 to /root/nltk_data...\n",
            "[nltk_data]    |   Unzipping corpora/verbnet3.zip.\n",
            "[nltk_data]    | Downloading package webtext to /root/nltk_data...\n",
            "[nltk_data]    |   Unzipping corpora/webtext.zip.\n",
            "[nltk_data]    | Downloading package wmt15_eval to /root/nltk_data...\n",
            "[nltk_data]    |   Unzipping models/wmt15_eval.zip.\n",
            "[nltk_data]    | Downloading package word2vec_sample to\n",
            "[nltk_data]    |     /root/nltk_data...\n",
            "[nltk_data]    |   Unzipping models/word2vec_sample.zip.\n",
            "[nltk_data]    | Downloading package wordnet to /root/nltk_data...\n",
            "[nltk_data]    | Downloading package wordnet2021 to /root/nltk_data...\n",
            "[nltk_data]    | Downloading package wordnet2022 to /root/nltk_data...\n",
            "[nltk_data]    |   Unzipping corpora/wordnet2022.zip.\n",
            "[nltk_data]    | Downloading package wordnet31 to /root/nltk_data...\n",
            "[nltk_data]    | Downloading package wordnet_ic to /root/nltk_data...\n",
            "[nltk_data]    |   Unzipping corpora/wordnet_ic.zip.\n",
            "[nltk_data]    | Downloading package words to /root/nltk_data...\n",
            "[nltk_data]    |   Unzipping corpora/words.zip.\n",
            "[nltk_data]    | Downloading package ycoe to /root/nltk_data...\n",
            "[nltk_data]    |   Unzipping corpora/ycoe.zip.\n",
            "[nltk_data]    | \n",
            "[nltk_data]  Done downloading collection all\n"
          ]
        },
        {
          "output_type": "execute_result",
          "data": {
            "text/plain": [
              "True"
            ]
          },
          "metadata": {},
          "execution_count": 5
        }
      ]
    },
    {
      "cell_type": "markdown",
      "source": [
        "**Q1. Write a unique paragraph (5-6 sentences) about your favorite topic (e.g., sports,\n",
        "technology, food, books, etc.).**"
      ],
      "metadata": {
        "id": "n82iNbfgSupd"
      }
    },
    {
      "cell_type": "markdown",
      "source": [
        "1. Convert text to lowercase and remove punctuation."
      ],
      "metadata": {
        "id": "02pOAwVuVh7C"
      }
    },
    {
      "cell_type": "code",
      "source": [
        "\n",
        "from nltk.tokenize import word_tokenize\n",
        "\n",
        "text = \"\"\" One of my favorite topics is technology because it constantly evolves and transforms the way we live.\n",
        "From smartphones to artificial intelligence, tech innovations make everyday tasks faster, easier, and more efficient.\n",
        "I’m especially fascinated by how AI is changing fields like healthcare, education, and creative arts.\n",
        "Technology also connects people across the globe, making the world feel smaller and more accessible.\n",
        "While it has its challenges, like privacy concerns, its potential to solve big problems is incredibly exciting.\n",
        "Staying updated on new tech trends always sparks my curiosity and imagination. \"\"\"\n",
        "\n",
        "lower = text.lower()\n",
        "words = word_tokenize(lower)\n",
        "\n",
        "punctuations = ['!', '\"', '#', '$', '%', '&', \"'\", ',', '-',\n",
        "                '.', ':', ';', '?', '^', '_', '`','~']\n",
        "tempRes = [word for word in words if word not in punctuations]\n",
        "\n",
        "# Merging the resultant words into a single string again\n",
        "res = \"\"\n",
        "for word in tempRes:\n",
        "    res += word\n",
        "    res += \" \"\n",
        "print(res)"
      ],
      "metadata": {
        "colab": {
          "base_uri": "https://localhost:8080/"
        },
        "id": "_6q8ts2ZSid3",
        "outputId": "045ef8ed-40be-48f1-9696-3f2274534ee3"
      },
      "execution_count": 7,
      "outputs": [
        {
          "output_type": "stream",
          "name": "stdout",
          "text": [
            "one of my favorite topics is technology because it constantly evolves and transforms the way we live from smartphones to artificial intelligence tech innovations make everyday tasks faster easier and more efficient i ’ m especially fascinated by how ai is changing fields like healthcare education and creative arts technology also connects people across the globe making the world feel smaller and more accessible while it has its challenges like privacy concerns its potential to solve big problems is incredibly exciting staying updated on new tech trends always sparks my curiosity and imagination \n"
          ]
        }
      ]
    },
    {
      "cell_type": "markdown",
      "source": [
        "2. Tokenize the text into words and sentences."
      ],
      "metadata": {
        "id": "r8jWrJq9YmYu"
      }
    },
    {
      "cell_type": "code",
      "source": [
        "from nltk.tokenize import word_tokenize\n",
        "from nltk.tokenize import sent_tokenize\n",
        "\n",
        "words = word_tokenize(text)\n",
        "sentences = sent_tokenize(text)\n",
        "\n",
        "print(\"Words:\\n\")\n",
        "print(words)\n",
        "print(\"\\n\")\n",
        "\n",
        "print(\"Sentences:\\n\")\n",
        "for sentence in sentences:\n",
        "    print(sentence)"
      ],
      "metadata": {
        "colab": {
          "base_uri": "https://localhost:8080/"
        },
        "id": "w0jn9WcNYZ1W",
        "outputId": "d8250764-c61e-4e06-e0b7-b90fbfab9d90"
      },
      "execution_count": 8,
      "outputs": [
        {
          "output_type": "stream",
          "name": "stdout",
          "text": [
            "Words:\n",
            "\n",
            "['One', 'of', 'my', 'favorite', 'topics', 'is', 'technology', 'because', 'it', 'constantly', 'evolves', 'and', 'transforms', 'the', 'way', 'we', 'live', '.', 'From', 'smartphones', 'to', 'artificial', 'intelligence', ',', 'tech', 'innovations', 'make', 'everyday', 'tasks', 'faster', ',', 'easier', ',', 'and', 'more', 'efficient', '.', 'I', '’', 'm', 'especially', 'fascinated', 'by', 'how', 'AI', 'is', 'changing', 'fields', 'like', 'healthcare', ',', 'education', ',', 'and', 'creative', 'arts', '.', 'Technology', 'also', 'connects', 'people', 'across', 'the', 'globe', ',', 'making', 'the', 'world', 'feel', 'smaller', 'and', 'more', 'accessible', '.', 'While', 'it', 'has', 'its', 'challenges', ',', 'like', 'privacy', 'concerns', ',', 'its', 'potential', 'to', 'solve', 'big', 'problems', 'is', 'incredibly', 'exciting', '.', 'Staying', 'updated', 'on', 'new', 'tech', 'trends', 'always', 'sparks', 'my', 'curiosity', 'and', 'imagination', '.']\n",
            "\n",
            "\n",
            "Sentences:\n",
            "\n",
            " One of my favorite topics is technology because it constantly evolves and transforms the way we live.\n",
            "From smartphones to artificial intelligence, tech innovations make everyday tasks faster, easier, and more efficient.\n",
            "I’m especially fascinated by how AI is changing fields like healthcare, education, and creative arts.\n",
            "Technology also connects people across the globe, making the world feel smaller and more accessible.\n",
            "While it has its challenges, like privacy concerns, its potential to solve big problems is incredibly exciting.\n",
            "Staying updated on new tech trends always sparks my curiosity and imagination.\n"
          ]
        }
      ]
    },
    {
      "cell_type": "markdown",
      "source": [
        "3. Remove stopwords (using NLTK's stopwords list)."
      ],
      "metadata": {
        "id": "DZzRysdpYwm7"
      }
    },
    {
      "cell_type": "code",
      "source": [
        "from nltk.tokenize import word_tokenize\n",
        "from nltk.corpus import stopwords\n",
        "\n",
        "# Using the resultant string from Q1)1. coz that avoids punctuations as well, so it'd provide a better result\n",
        "token = word_tokenize(res)\n",
        "stop_words = set(stopwords.words('english'))\n",
        "\n",
        "resStr = [word for word in token if word not in stop_words]\n",
        "print(resStr)"
      ],
      "metadata": {
        "colab": {
          "base_uri": "https://localhost:8080/"
        },
        "id": "9M_o9UcAYv93",
        "outputId": "88638446-2aed-4c59-9e01-3ee57f18b1d6"
      },
      "execution_count": 9,
      "outputs": [
        {
          "output_type": "stream",
          "name": "stdout",
          "text": [
            "['one', 'favorite', 'topics', 'technology', 'constantly', 'evolves', 'transforms', 'way', 'live', 'smartphones', 'artificial', 'intelligence', 'tech', 'innovations', 'make', 'everyday', 'tasks', 'faster', 'easier', 'efficient', '’', 'especially', 'fascinated', 'ai', 'changing', 'fields', 'like', 'healthcare', 'education', 'creative', 'arts', 'technology', 'also', 'connects', 'people', 'across', 'globe', 'making', 'world', 'feel', 'smaller', 'accessible', 'challenges', 'like', 'privacy', 'concerns', 'potential', 'solve', 'big', 'problems', 'incredibly', 'exciting', 'staying', 'updated', 'new', 'tech', 'trends', 'always', 'sparks', 'curiosity', 'imagination']\n"
          ]
        }
      ]
    },
    {
      "cell_type": "markdown",
      "source": [
        "4. Display word frequency distribution (excluding stopwords)."
      ],
      "metadata": {
        "id": "MbNhlnrXZIdE"
      }
    },
    {
      "cell_type": "code",
      "source": [
        "from nltk.tokenize import word_tokenize\n",
        "from nltk.corpus import stopwords\n",
        "from nltk.probability import FreqDist\n",
        "\n",
        "# Using output of Q1) 3.\n",
        "frequency = FreqDist(resStr)\n",
        "print(frequency)\n",
        "frequency.plot(10, title=\"Top 10 Word Frequencies (excluding stopwords)\")"
      ],
      "metadata": {
        "colab": {
          "base_uri": "https://localhost:8080/",
          "height": 570
        },
        "id": "oKfEZq8gZH86",
        "outputId": "0cb34010-02e7-4e7d-8375-20c542c52604"
      },
      "execution_count": 10,
      "outputs": [
        {
          "output_type": "stream",
          "name": "stdout",
          "text": [
            "<FreqDist with 58 samples and 61 outcomes>\n"
          ]
        },
        {
          "output_type": "execute_result",
          "data": {
            "text/plain": [
              "<Axes: title={'center': 'Top 10 Word Frequencies (excluding stopwords)'}, xlabel='Samples', ylabel='Counts'>"
            ]
          },
          "metadata": {},
          "execution_count": 10
        },
        {
          "output_type": "display_data",
          "data": {
            "text/plain": [
              "<Figure size 640x480 with 1 Axes>"
            ],
            "image/png": "[encoded data removed]"
          },
          "metadata": {}
        }
      ]
    },
    {
      "cell_type": "markdown",
      "source": [
        "**Q2: Stemming and Lemmatization**\n",
        "\n",
        "\n",
        "1.    Take the tokenized words from Ques on 1 (after stopword removal)\n",
        "2.    Apply stemming using NLTK's PorterStemmer and LancasterStemmer\n",
        "\n",
        "\n",
        "\n"
      ],
      "metadata": {
        "id": "wK9SygtbatNj"
      }
    },
    {
      "cell_type": "code",
      "source": [
        "input = resStr\n",
        "from nltk.stem import PorterStemmer\n",
        "from nltk.stem import LancasterStemmer\n",
        "\n",
        "porter = PorterStemmer()\n",
        "lancaster = LancasterStemmer()\n",
        "\n",
        "for word in input:\n",
        "    print(word, \" : \", porter.stem(word))\n",
        "print(\"\\nLancaster Stemming:\\n\")\n",
        "for word in input:\n",
        "    print(word, \" : \", lancaster.stem(word))"
      ],
      "metadata": {
        "colab": {
          "base_uri": "https://localhost:8080/"
        },
        "id": "AGknGzD6ask6",
        "outputId": "71e844bc-e034-4c98-b65b-0db5bfe4480f"
      },
      "execution_count": 11,
      "outputs": [
        {
          "output_type": "stream",
          "name": "stdout",
          "text": [
            "one  :  one\n",
            "favorite  :  favorit\n",
            "topics  :  topic\n",
            "technology  :  technolog\n",
            "constantly  :  constantli\n",
            "evolves  :  evolv\n",
            "transforms  :  transform\n",
            "way  :  way\n",
            "live  :  live\n",
            "smartphones  :  smartphon\n",
            "artificial  :  artifici\n",
            "intelligence  :  intellig\n",
            "tech  :  tech\n",
            "innovations  :  innov\n",
            "make  :  make\n",
            "everyday  :  everyday\n",
            "tasks  :  task\n",
            "faster  :  faster\n",
            "easier  :  easier\n",
            "efficient  :  effici\n",
            "’  :  ’\n",
            "especially  :  especi\n",
            "fascinated  :  fascin\n",
            "ai  :  ai\n",
            "changing  :  chang\n",
            "fields  :  field\n",
            "like  :  like\n",
            "healthcare  :  healthcar\n",
            "education  :  educ\n",
            "creative  :  creativ\n",
            "arts  :  art\n",
            "technology  :  technolog\n",
            "also  :  also\n",
            "connects  :  connect\n",
            "people  :  peopl\n",
            "across  :  across\n",
            "globe  :  globe\n",
            "making  :  make\n",
            "world  :  world\n",
            "feel  :  feel\n",
            "smaller  :  smaller\n",
            "accessible  :  access\n",
            "challenges  :  challeng\n",
            "like  :  like\n",
            "privacy  :  privaci\n",
            "concerns  :  concern\n",
            "potential  :  potenti\n",
            "solve  :  solv\n",
            "big  :  big\n",
            "problems  :  problem\n",
            "incredibly  :  incred\n",
            "exciting  :  excit\n",
            "staying  :  stay\n",
            "updated  :  updat\n",
            "new  :  new\n",
            "tech  :  tech\n",
            "trends  :  trend\n",
            "always  :  alway\n",
            "sparks  :  spark\n",
            "curiosity  :  curios\n",
            "imagination  :  imagin\n",
            "\n",
            "Lancaster Stemming:\n",
            "\n",
            "one  :  on\n",
            "favorite  :  favorit\n",
            "topics  :  top\n",
            "technology  :  technolog\n",
            "constantly  :  const\n",
            "evolves  :  evolv\n",
            "transforms  :  transform\n",
            "way  :  way\n",
            "live  :  liv\n",
            "smartphones  :  smartphon\n",
            "artificial  :  art\n",
            "intelligence  :  intellig\n",
            "tech  :  tech\n",
            "innovations  :  innov\n",
            "make  :  mak\n",
            "everyday  :  everyday\n",
            "tasks  :  task\n",
            "faster  :  fast\n",
            "easier  :  easy\n",
            "efficient  :  efficy\n",
            "’  :  ’\n",
            "especially  :  espec\n",
            "fascinated  :  fascin\n",
            "ai  :  ai\n",
            "changing  :  chang\n",
            "fields  :  field\n",
            "like  :  lik\n",
            "healthcare  :  healthc\n",
            "education  :  educ\n",
            "creative  :  cre\n",
            "arts  :  art\n",
            "technology  :  technolog\n",
            "also  :  also\n",
            "connects  :  connect\n",
            "people  :  peopl\n",
            "across  :  across\n",
            "globe  :  glob\n",
            "making  :  mak\n",
            "world  :  world\n",
            "feel  :  feel\n",
            "smaller  :  smal\n",
            "accessible  :  access\n",
            "challenges  :  challeng\n",
            "like  :  lik\n",
            "privacy  :  priv\n",
            "concerns  :  concern\n",
            "potential  :  pot\n",
            "solve  :  solv\n",
            "big  :  big\n",
            "problems  :  problem\n",
            "incredibly  :  incred\n",
            "exciting  :  excit\n",
            "staying  :  stay\n",
            "updated  :  upd\n",
            "new  :  new\n",
            "tech  :  tech\n",
            "trends  :  trend\n",
            "always  :  alway\n",
            "sparks  :  spark\n",
            "curiosity  :  curios\n",
            "imagination  :  imagin\n"
          ]
        }
      ]
    },
    {
      "cell_type": "markdown",
      "source": [
        "3. Apply lemmatization using NLTK's WordNetLemmatizer."
      ],
      "metadata": {
        "id": "1y8lQJN3bf6l"
      }
    },
    {
      "cell_type": "code",
      "source": [
        "from nltk.stem import WordNetLemmatizer\n",
        "wordnet = WordNetLemmatizer()\n",
        "\n",
        "for word in input:\n",
        "    print(word, \" : \", wordnet.lemmatize(word))"
      ],
      "metadata": {
        "colab": {
          "base_uri": "https://localhost:8080/"
        },
        "id": "ofWucgAmbcam",
        "outputId": "cab1b88e-7222-4739-ea89-bd50922c6fde"
      },
      "execution_count": 12,
      "outputs": [
        {
          "output_type": "stream",
          "name": "stdout",
          "text": [
            "one  :  one\n",
            "favorite  :  favorite\n",
            "topics  :  topic\n",
            "technology  :  technology\n",
            "constantly  :  constantly\n",
            "evolves  :  evolves\n",
            "transforms  :  transforms\n",
            "way  :  way\n",
            "live  :  live\n",
            "smartphones  :  smartphones\n",
            "artificial  :  artificial\n",
            "intelligence  :  intelligence\n",
            "tech  :  tech\n",
            "innovations  :  innovation\n",
            "make  :  make\n",
            "everyday  :  everyday\n",
            "tasks  :  task\n",
            "faster  :  faster\n",
            "easier  :  easier\n",
            "efficient  :  efficient\n",
            "’  :  ’\n",
            "especially  :  especially\n",
            "fascinated  :  fascinated\n",
            "ai  :  ai\n",
            "changing  :  changing\n",
            "fields  :  field\n",
            "like  :  like\n",
            "healthcare  :  healthcare\n",
            "education  :  education\n",
            "creative  :  creative\n",
            "arts  :  art\n",
            "technology  :  technology\n",
            "also  :  also\n",
            "connects  :  connects\n",
            "people  :  people\n",
            "across  :  across\n",
            "globe  :  globe\n",
            "making  :  making\n",
            "world  :  world\n",
            "feel  :  feel\n",
            "smaller  :  smaller\n",
            "accessible  :  accessible\n",
            "challenges  :  challenge\n",
            "like  :  like\n",
            "privacy  :  privacy\n",
            "concerns  :  concern\n",
            "potential  :  potential\n",
            "solve  :  solve\n",
            "big  :  big\n",
            "problems  :  problem\n",
            "incredibly  :  incredibly\n",
            "exciting  :  exciting\n",
            "staying  :  staying\n",
            "updated  :  updated\n",
            "new  :  new\n",
            "tech  :  tech\n",
            "trends  :  trend\n",
            "always  :  always\n",
            "sparks  :  spark\n",
            "curiosity  :  curiosity\n",
            "imagination  :  imagination\n"
          ]
        }
      ]
    },
    {
      "cell_type": "markdown",
      "source": [
        "4. Compare and display results of both techniques."
      ],
      "metadata": {
        "id": "8WNJ3avxb3Yg"
      }
    },
    {
      "cell_type": "code",
      "source": [
        "print(f\"{'Original':<12}{'PorterStemmer':<18}{'LancasterStemmer':<18}{'WordNetLemmatizer':<18}\")\n",
        "print(\"\\n\")\n",
        "\n",
        "# Conclusion: The lancaster stemmer is so aggressive than the porter stemmer. It removes a lot of characters and often loses meaning of the\n",
        "# word. The porter stemmer is less aggressive but it still lacks precision in some cases.\n",
        "# The WordNetStemmer on the other hand is so accurate coz it looks up the word on web and then perform stemming precisely. Like, you can see\n",
        "# in the word \"valorant\", the porter gave \"valor\" lancaster gave \"val\" but wn gave \"valorant\" which is the actual name of the game. It\n",
        "# maintained the context of the word.\n",
        "\n",
        "for word in input:\n",
        "    p_stem = porter.stem(word)\n",
        "    l_stem = lancaster.stem(word)\n",
        "    w_stem = wordnet.lemmatize(word)\n",
        "    print(f\"{word:<12}{p_stem:<18}{l_stem:<18}{w_stem:<18}\")"
      ],
      "metadata": {
        "colab": {
          "base_uri": "https://localhost:8080/"
        },
        "id": "eVLYR8DFb3CV",
        "outputId": "70456ea8-6b0f-494a-b634-e5eea173444a"
      },
      "execution_count": 13,
      "outputs": [
        {
          "output_type": "stream",
          "name": "stdout",
          "text": [
            "Original    PorterStemmer     LancasterStemmer  WordNetLemmatizer \n",
            "\n",
            "\n",
            "one         one               on                one               \n",
            "favorite    favorit           favorit           favorite          \n",
            "topics      topic             top               topic             \n",
            "technology  technolog         technolog         technology        \n",
            "constantly  constantli        const             constantly        \n",
            "evolves     evolv             evolv             evolves           \n",
            "transforms  transform         transform         transforms        \n",
            "way         way               way               way               \n",
            "live        live              liv               live              \n",
            "smartphones smartphon         smartphon         smartphones       \n",
            "artificial  artifici          art               artificial        \n",
            "intelligenceintellig          intellig          intelligence      \n",
            "tech        tech              tech              tech              \n",
            "innovations innov             innov             innovation        \n",
            "make        make              mak               make              \n",
            "everyday    everyday          everyday          everyday          \n",
            "tasks       task              task              task              \n",
            "faster      faster            fast              faster            \n",
            "easier      easier            easy              easier            \n",
            "efficient   effici            efficy            efficient         \n",
            "’           ’                 ’                 ’                 \n",
            "especially  especi            espec             especially        \n",
            "fascinated  fascin            fascin            fascinated        \n",
            "ai          ai                ai                ai                \n",
            "changing    chang             chang             changing          \n",
            "fields      field             field             field             \n",
            "like        like              lik               like              \n",
            "healthcare  healthcar         healthc           healthcare        \n",
            "education   educ              educ              education         \n",
            "creative    creativ           cre               creative          \n",
            "arts        art               art               art               \n",
            "technology  technolog         technolog         technology        \n",
            "also        also              also              also              \n",
            "connects    connect           connect           connects          \n",
            "people      peopl             peopl             people            \n",
            "across      across            across            across            \n",
            "globe       globe             glob              globe             \n",
            "making      make              mak               making            \n",
            "world       world             world             world             \n",
            "feel        feel              feel              feel              \n",
            "smaller     smaller           smal              smaller           \n",
            "accessible  access            access            accessible        \n",
            "challenges  challeng          challeng          challenge         \n",
            "like        like              lik               like              \n",
            "privacy     privaci           priv              privacy           \n",
            "concerns    concern           concern           concern           \n",
            "potential   potenti           pot               potential         \n",
            "solve       solv              solv              solve             \n",
            "big         big               big               big               \n",
            "problems    problem           problem           problem           \n",
            "incredibly  incred            incred            incredibly        \n",
            "exciting    excit             excit             exciting          \n",
            "staying     stay              stay              staying           \n",
            "updated     updat             upd               updated           \n",
            "new         new               new               new               \n",
            "tech        tech              tech              tech              \n",
            "trends      trend             trend             trend             \n",
            "always      alway             alway             always            \n",
            "sparks      spark             spark             spark             \n",
            "curiosity   curios            curios            curiosity         \n",
            "imagination imagin            imagin            imagination       \n"
          ]
        }
      ]
    },
    {
      "cell_type": "markdown",
      "source": [
        "**Q3. Regular Expressions and Text Splittng**\n",
        "\n",
        "1.   Take their original text from Ques on 1.\n",
        "\n",
        "2.  Use regular expressions to:\n",
        "\n",
        "\n",
        "\n",
        "*   Extract all words with more than 5 letters.\n",
        "*   Extract all numbers (if any exist in their text).\n",
        "*   Extract all capitalized words\n",
        "\n",
        "\n"
      ],
      "metadata": {
        "id": "xAVcanlEcN2e"
      }
    },
    {
      "cell_type": "code",
      "source": [
        "import re\n",
        "ip = text\n",
        "\n",
        "resA = re.findall(r'\\w{6,}', ip)\n",
        "print(resA)\n",
        "\n",
        "# Adding numbers for testing command\n",
        "ip += \"1234\"\n",
        "resB = re.findall(r'\\d+', ip)\n",
        "print(resB)\n",
        "\n",
        "resC = re.findall(r'\\b[A-Z]+\\b', ip)\n",
        "print(resC)"
      ],
      "metadata": {
        "colab": {
          "base_uri": "https://localhost:8080/"
        },
        "id": "6ft4clw6c_LT",
        "outputId": "4e344692-d08f-4b82-c3f0-ba0424bdf44a"
      },
      "execution_count": 14,
      "outputs": [
        {
          "output_type": "stream",
          "name": "stdout",
          "text": [
            "['favorite', 'topics', 'technology', 'because', 'constantly', 'evolves', 'transforms', 'smartphones', 'artificial', 'intelligence', 'innovations', 'everyday', 'faster', 'easier', 'efficient', 'especially', 'fascinated', 'changing', 'fields', 'healthcare', 'education', 'creative', 'Technology', 'connects', 'people', 'across', 'making', 'smaller', 'accessible', 'challenges', 'privacy', 'concerns', 'potential', 'problems', 'incredibly', 'exciting', 'Staying', 'updated', 'trends', 'always', 'sparks', 'curiosity', 'imagination']\n",
            "['1234']\n",
            "['I', 'AI']\n"
          ]
        }
      ]
    },
    {
      "cell_type": "markdown",
      "source": [
        "3. Use text spliƫng techniques to:\n",
        "\n",
        "\n",
        "*   Split the text into words containing only alphabets (removing digits and\n",
        "special\n",
        "characters).\n",
        "*  Extract words starting with a vowel.\n",
        "\n",
        "\n"
      ],
      "metadata": {
        "id": "DnI1wbBHdU_l"
      }
    },
    {
      "cell_type": "code",
      "source": [
        "ip3 = text\n",
        "\n",
        "# Filtering all the alphabets\n",
        "non_digits = re.findall(r'\\b[a-zA-Z]+\\b', ip3)\n",
        "# Filtering out words only to avoid punctuation, digits and special characters\n",
        "words_only = re.findall(r'\\b\\w+\\b', ip3)\n",
        "\n",
        "words_only_set = set(words_only)\n",
        "res3a = [word for word in non_digits if word in words_only_set]\n",
        "print(res3a)\n",
        "\n",
        "res3b = re.findall(r'\\b[aeiouAEIOU]\\w*', text)\n",
        "print(\"\\nVowels only\\n\")\n",
        "print(res3b)"
      ],
      "metadata": {
        "colab": {
          "base_uri": "https://localhost:8080/"
        },
        "id": "xA2xT-O1d4JF",
        "outputId": "a7222704-ce6b-4f0e-bb59-6fbb4768c9f5"
      },
      "execution_count": 15,
      "outputs": [
        {
          "output_type": "stream",
          "name": "stdout",
          "text": [
            "['One', 'of', 'my', 'favorite', 'topics', 'is', 'technology', 'because', 'it', 'constantly', 'evolves', 'and', 'transforms', 'the', 'way', 'we', 'live', 'From', 'smartphones', 'to', 'artificial', 'intelligence', 'tech', 'innovations', 'make', 'everyday', 'tasks', 'faster', 'easier', 'and', 'more', 'efficient', 'I', 'm', 'especially', 'fascinated', 'by', 'how', 'AI', 'is', 'changing', 'fields', 'like', 'healthcare', 'education', 'and', 'creative', 'arts', 'Technology', 'also', 'connects', 'people', 'across', 'the', 'globe', 'making', 'the', 'world', 'feel', 'smaller', 'and', 'more', 'accessible', 'While', 'it', 'has', 'its', 'challenges', 'like', 'privacy', 'concerns', 'its', 'potential', 'to', 'solve', 'big', 'problems', 'is', 'incredibly', 'exciting', 'Staying', 'updated', 'on', 'new', 'tech', 'trends', 'always', 'sparks', 'my', 'curiosity', 'and', 'imagination']\n",
            "\n",
            "Vowels only\n",
            "\n",
            "['One', 'of', 'is', 'it', 'evolves', 'and', 'artificial', 'intelligence', 'innovations', 'everyday', 'easier', 'and', 'efficient', 'I', 'especially', 'AI', 'is', 'education', 'and', 'arts', 'also', 'across', 'and', 'accessible', 'it', 'its', 'its', 'is', 'incredibly', 'exciting', 'updated', 'on', 'always', 'and', 'imagination']\n"
          ]
        }
      ]
    },
    {
      "cell_type": "markdown",
      "source": [
        "**Q4. Custom Tokenization & Regex-based Text Cleaning**\n",
        "\n",
        "\n",
        "\n",
        "1.   Take original text from Question 1.\n",
        "\n",
        "2.   Write a custom tokeniza on function that:\n",
        "\n",
        "*   Removes punctua on and special symbols, but keeps contrac ons (e.g., \"isn't\" should not be split into \"is\" and \"n't\").\n",
        "\n",
        "*   Handles hyphenated words as a single token (e.g., \"state-of-the-art\" remains a single token).\n",
        "\n",
        "\n",
        "*   Tokenizes numbers separately but keeps decimal numbers intact (e.g., \"3.14\" should remain as is).\n",
        "\n",
        "\n",
        "\n",
        "\n",
        "\n",
        "\n",
        "\n",
        "\n",
        "\n"
      ],
      "metadata": {
        "id": "9doynvqPeE0p"
      }
    },
    {
      "cell_type": "code",
      "source": [
        "input4 = text\n",
        "\n",
        "def custom_tokenization_a(text):\n",
        "    tokens = re.findall(r\"\\w+|\\w+'\\w\", text)\n",
        "    return tokens\n",
        "def custom_tokenization_b(text):\n",
        "    tokens = re.findall(r\"\\w+(?:-\\w+)+\", text)\n",
        "    return tokens\n",
        "def custom_tokenization_c(text):\n",
        "    tokens = re.findall(r\"\\d+\\.\\d+|\\d+\", text)\n",
        "    return tokens\n",
        "\n",
        "ress_a = custom_tokenization_a(input4)\n",
        "# Adding the required inputs within the text to check the output\n",
        "ress_b = custom_tokenization_b(input4 + \" state-of-the-art\")\n",
        "ress_c = custom_tokenization_c(input4 + \" 3.14 14.294 52\")\n",
        "\n",
        "print(\"Removing unctuation and special symbols:\", ress_a)\n",
        "print(\"\\nHyphenated words:\\n\", ress_b)\n",
        "print(\"Decimal numbers:\\n\", ress_c)"
      ],
      "metadata": {
        "colab": {
          "base_uri": "https://localhost:8080/"
        },
        "id": "_csOMU1mekZW",
        "outputId": "546e0e35-eb59-40e4-c8c4-f13ee443e827"
      },
      "execution_count": 16,
      "outputs": [
        {
          "output_type": "stream",
          "name": "stdout",
          "text": [
            "Removing unctuation and special symbols: ['One', 'of', 'my', 'favorite', 'topics', 'is', 'technology', 'because', 'it', 'constantly', 'evolves', 'and', 'transforms', 'the', 'way', 'we', 'live', 'From', 'smartphones', 'to', 'artificial', 'intelligence', 'tech', 'innovations', 'make', 'everyday', 'tasks', 'faster', 'easier', 'and', 'more', 'efficient', 'I', 'm', 'especially', 'fascinated', 'by', 'how', 'AI', 'is', 'changing', 'fields', 'like', 'healthcare', 'education', 'and', 'creative', 'arts', 'Technology', 'also', 'connects', 'people', 'across', 'the', 'globe', 'making', 'the', 'world', 'feel', 'smaller', 'and', 'more', 'accessible', 'While', 'it', 'has', 'its', 'challenges', 'like', 'privacy', 'concerns', 'its', 'potential', 'to', 'solve', 'big', 'problems', 'is', 'incredibly', 'exciting', 'Staying', 'updated', 'on', 'new', 'tech', 'trends', 'always', 'sparks', 'my', 'curiosity', 'and', 'imagination']\n",
            "\n",
            "Hyphenated words:\n",
            " ['state-of-the-art']\n",
            "Decimal numbers:\n",
            " ['3.14', '14.294', '52']\n"
          ]
        }
      ]
    },
    {
      "cell_type": "markdown",
      "source": [
        "3. Use Regex Substitutions (re.sub) to:\n",
        "\n",
        "*    Replace email addresses with '<EMAIL>' placeholder.\n",
        "*   Replace URLs with '<URL>' placeholder.\n",
        "*   Replace phone numbers (formats: 123-456-7890 or +91 9876543210) with '<PHONE>' placeholder.\n",
        "\n",
        "\n"
      ],
      "metadata": {
        "id": "26hOfnv-ery7"
      }
    },
    {
      "cell_type": "code",
      "source": [
        "res43a = re.sub(r'\\b[\\w\\.-]+@[\\w\\.-]+\\.\\w+\\b', '<EMAIL>', input4 + \"vermasantushti96@gmail.com --End of document--\")\n",
        "print(res43a, \"\\n\")\n",
        "\n",
        "res43b = re.sub(r'https?://[^\\s]+', '<URL> ', input4 + \"https://github.com/sverma96/UCS420 --End of document--\")\n",
        "print(res43b, \"\\n\")\n",
        "\n",
        "res43c = re.sub(r'\\b\\d{3}-\\d{3}-\\d{4}\\b', '<PHONE>', input4 + \"781-467-9389 +91 7814679389 --End of document--\")\n",
        "res43c = re.sub(r'\\+91\\s\\d{10}\\b', '<PHONE>', res43c)\n",
        "print(res43c)"
      ],
      "metadata": {
        "colab": {
          "base_uri": "https://localhost:8080/"
        },
        "id": "PvYmobLUfIcP",
        "outputId": "6f9da07d-6a02-447c-8080-09283528fc67"
      },
      "execution_count": 18,
      "outputs": [
        {
          "output_type": "stream",
          "name": "stdout",
          "text": [
            " One of my favorite topics is technology because it constantly evolves and transforms the way we live. \n",
            "From smartphones to artificial intelligence, tech innovations make everyday tasks faster, easier, and more efficient. \n",
            "I’m especially fascinated by how AI is changing fields like healthcare, education, and creative arts. \n",
            "Technology also connects people across the globe, making the world feel smaller and more accessible. \n",
            "While it has its challenges, like privacy concerns, its potential to solve big problems is incredibly exciting. \n",
            "Staying updated on new tech trends always sparks my curiosity and imagination. <EMAIL> --End of document-- \n",
            "\n",
            " One of my favorite topics is technology because it constantly evolves and transforms the way we live. \n",
            "From smartphones to artificial intelligence, tech innovations make everyday tasks faster, easier, and more efficient. \n",
            "I’m especially fascinated by how AI is changing fields like healthcare, education, and creative arts. \n",
            "Technology also connects people across the globe, making the world feel smaller and more accessible. \n",
            "While it has its challenges, like privacy concerns, its potential to solve big problems is incredibly exciting. \n",
            "Staying updated on new tech trends always sparks my curiosity and imagination. <URL>  --End of document-- \n",
            "\n",
            " One of my favorite topics is technology because it constantly evolves and transforms the way we live. \n",
            "From smartphones to artificial intelligence, tech innovations make everyday tasks faster, easier, and more efficient. \n",
            "I’m especially fascinated by how AI is changing fields like healthcare, education, and creative arts. \n",
            "Technology also connects people across the globe, making the world feel smaller and more accessible. \n",
            "While it has its challenges, like privacy concerns, its potential to solve big problems is incredibly exciting. \n",
            "Staying updated on new tech trends always sparks my curiosity and imagination. <PHONE> <PHONE> --End of document--\n"
          ]
        }
      ]
    }
  ]
}