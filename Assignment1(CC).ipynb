{
  "nbformat": 4,
  "nbformat_minor": 0,
  "metadata": {
    "colab": {
      "provenance": []
    },
    "kernelspec": {
      "name": "python3",
      "display_name": "Python 3"
    },
    "language_info": {
      "name": "python"
    }
  },
  "cells": [
    {
      "cell_type": "markdown",
      "source": [
        "\n",
        "Assign 1.1 : WAP to print your name three times."
      ],
      "metadata": {
        "id": "ZvPaizws2JD4"
      }
    },
    {
      "cell_type": "code",
      "execution_count": null,
      "metadata": {
        "colab": {
          "base_uri": "https://localhost:8080/"
        },
        "id": "yubYHYUzVL_W",
        "outputId": "189af567-ad69-41ed-c6e2-e9b38c39c6d8"
      },
      "outputs": [
        {
          "output_type": "stream",
          "name": "stdout",
          "text": [
            "Santushti Verma\n",
            "Santushti Verma\n",
            "Santushti Verma\n"
          ]
        }
      ],
      "source": [
        "n=3\n",
        "for i in range(0,n):\n",
        "  print(\"Santushti Verma\")"
      ]
    },
    {
      "cell_type": "code",
      "source": [
        "print(\"Santushti Verma\")\n",
        "print(\"Santushti Verma\")\n",
        "print(\"Santushti Verma\")"
      ],
      "metadata": {
        "colab": {
          "base_uri": "https://localhost:8080/"
        },
        "id": "RrXqYLUxWBog",
        "outputId": "dd73561f-c0cb-4087-d7a5-bbe6613a43c9"
      },
      "execution_count": null,
      "outputs": [
        {
          "output_type": "stream",
          "name": "stdout",
          "text": [
            "Santushti Verma\n",
            "Santushti Verma\n",
            "Santushti Verma\n"
          ]
        }
      ]
    },
    {
      "cell_type": "code",
      "source": [
        "count = 0\n",
        "while (count < 3):\n",
        "  count = count + 1\n",
        "  print(\"Santushti Verma\")"
      ],
      "metadata": {
        "colab": {
          "base_uri": "https://localhost:8080/"
        },
        "id": "k0Q6F4qZ2keX",
        "outputId": "20344e13-71ac-40f5-bed3-674a0c72cbc0"
      },
      "execution_count": null,
      "outputs": [
        {
          "output_type": "stream",
          "name": "stdout",
          "text": [
            "Santushti Verma\n",
            "Santushti Verma\n",
            "Santushti Verma\n"
          ]
        }
      ]
    }
  ]
}