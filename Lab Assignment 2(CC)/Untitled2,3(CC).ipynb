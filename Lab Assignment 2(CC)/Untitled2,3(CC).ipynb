{
  "nbformat": 4,
  "nbformat_minor": 0,
  "metadata": {
    "colab": {
      "provenance": []
    },
    "kernelspec": {
      "name": "python3",
      "display_name": "Python 3"
    },
    "language_info": {
      "name": "python"
    }
  },
  "cells": [
    {
      "cell_type": "markdown",
      "source": [
        "Q3. WAP to create a list of 100 random numbers between 100 and 900. Count and print the:"
      ],
      "metadata": {
        "id": "nwTCmyhrw8AV"
      }
    },
    {
      "cell_type": "markdown",
      "source": [
        "i) All Odd Numbers."
      ],
      "metadata": {
        "id": "nD6H6gv8xEK_"
      }
    },
    {
      "cell_type": "code",
      "execution_count": null,
      "metadata": {
        "colab": {
          "base_uri": "https://localhost:8080/"
        },
        "id": "RABCGIe5w5Bl",
        "outputId": "225007cc-7f89-4ab8-9d14-ca3469e8a6ea"
      },
      "outputs": [
        {
          "output_type": "stream",
          "name": "stdout",
          "text": [
            "Odd Numbers: [677, 585, 789, 721, 389, 477, 363, 155, 805, 571, 233, 843, 301, 463, 187, 171, 413, 635, 743, 891, 551, 433, 731, 111, 645, 343, 187, 195, 295, 181, 723, 839, 273, 219, 701, 187, 751, 803, 887, 263, 587, 303, 831, 793, 561, 429, 265, 113]\n",
            "Count of Odd Numbers: 48\n"
          ]
        }
      ],
      "source": [
        "import random\n",
        "\n",
        "# Step 1: Generate 100 random numbers between 100 and 900\n",
        "numbers = []\n",
        "for _ in range(100):\n",
        "    numbers.append(random.randint(100, 900))\n",
        "\n",
        "# Step 2: Find odd numbers\n",
        "odd_numbers = []\n",
        "for num in numbers:\n",
        "    if num % 2 != 0:\n",
        "        odd_numbers.append(num)\n",
        "print(\"Odd Numbers:\", odd_numbers)\n",
        "print(\"Count of Odd Numbers:\", len(odd_numbers))"
      ]
    },
    {
      "cell_type": "markdown",
      "source": [
        "ii) All Even Numbers."
      ],
      "metadata": {
        "id": "wTmUt0U8xok0"
      }
    },
    {
      "cell_type": "code",
      "source": [
        "even_numbers = []\n",
        "for num in numbers:\n",
        "    if num % 2 == 0:\n",
        "        even_numbers.append(num)\n",
        "print(\"Even Numbers:\", even_numbers)\n",
        "print(\"Count of Even Numbers:\", len(even_numbers))\n"
      ],
      "metadata": {
        "colab": {
          "base_uri": "https://localhost:8080/"
        },
        "id": "XoN_TqiXxn5d",
        "outputId": "0e02912d-96d8-4874-9a26-1bd7e017a7f8"
      },
      "execution_count": null,
      "outputs": [
        {
          "output_type": "stream",
          "name": "stdout",
          "text": [
            "Even Numbers: [808, 122, 372, 344, 630, 592, 356, 656, 432, 756, 764, 696, 864, 648, 760, 606, 694, 238, 756, 104, 296, 240, 776, 384, 668, 776, 570, 210, 138, 126, 134, 184, 334, 370, 716, 880, 182, 242, 592, 272, 268, 580, 820, 120, 718, 752, 510, 168, 194, 286, 344, 502]\n",
            "Count of Even Numbers: 52\n"
          ]
        }
      ]
    },
    {
      "cell_type": "markdown",
      "source": [
        "iii) All Prime Numbers."
      ],
      "metadata": {
        "id": "w5_LtYQdx2M9"
      }
    },
    {
      "cell_type": "code",
      "source": [
        "prime_numbers = []\n",
        "for num in numbers:\n",
        "    is_prime = True\n",
        "    if num > 1:\n",
        "        for i in range(2, num):\n",
        "            if num % i == 0:\n",
        "                is_prime = False\n",
        "                break\n",
        "    else:\n",
        "        is_prime = False\n",
        "    if is_prime:\n",
        "        prime_numbers.append(num)\n",
        "print(\"Prime Numbers:\", prime_numbers)\n",
        "print(\"Count of Prime Numbers:\", len(prime_numbers))"
      ],
      "metadata": {
        "colab": {
          "base_uri": "https://localhost:8080/"
        },
        "id": "1iK0D48nx1j_",
        "outputId": "77ea02a6-9d60-434e-c4f4-b5163d5d86fc"
      },
      "execution_count": null,
      "outputs": [
        {
          "output_type": "stream",
          "name": "stdout",
          "text": [
            "Prime Numbers: [677, 389, 571, 233, 463, 743, 433, 181, 839, 701, 751, 887, 263, 587, 113]\n",
            "Count of Prime Numbers: 15\n"
          ]
        }
      ]
    }
  ]
}