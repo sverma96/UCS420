{
  "nbformat": 4,
  "nbformat_minor": 0,
  "metadata": {
    "colab": {
      "provenance": []
    },
    "kernelspec": {
      "name": "python3",
      "display_name": "Python 3"
    },
    "language_info": {
      "name": "python"
    }
  },
  "cells": [
    {
      "cell_type": "markdown",
      "source": [
        "Q2. Create a tuple of marks scored as scores = (45, 89.5, 76, 45.4, 89, 92, 58, 45) and perform the following operations using tuple functions:  "
      ],
      "metadata": {
        "id": "1_r8TFE4tPw2"
      }
    },
    {
      "cell_type": "markdown",
      "source": [
        "i) Identify the highest score and its index in the tuple"
      ],
      "metadata": {
        "id": "RCIqEAzbtjzq"
      }
    },
    {
      "cell_type": "code",
      "execution_count": null,
      "metadata": {
        "colab": {
          "base_uri": "https://localhost:8080/"
        },
        "id": "CBrjCu4-tH1I",
        "outputId": "d8995d05-bca2-48ed-d8fd-85f0973b0bdd"
      },
      "outputs": [
        {
          "output_type": "stream",
          "name": "stdout",
          "text": [
            "max scores 92\n",
            "index is 5\n"
          ]
        }
      ],
      "source": [
        "scores=(45, 89.5, 76, 45.4, 89, 92, 58, 45)\n",
        "Highest=max(scores)\n",
        "print(\"max scores\",Highest)\n",
        "idx=scores.index(Highest)\n",
        "print(\"index is\",idx)"
      ]
    },
    {
      "cell_type": "markdown",
      "source": [
        "ii) Find the lowest score and count how many times it appears."
      ],
      "metadata": {
        "id": "oRRJXxT0v5iA"
      }
    },
    {
      "cell_type": "code",
      "source": [
        "Lowest=min(scores)\n",
        "print(\"lowest scores\",Lowest)\n",
        "print(scores.count(45))"
      ],
      "metadata": {
        "colab": {
          "base_uri": "https://localhost:8080/"
        },
        "id": "hdkHOx2GuGrc",
        "outputId": "5acd6ea9-0852-4037-9c85-676d17967339"
      },
      "execution_count": null,
      "outputs": [
        {
          "output_type": "stream",
          "name": "stdout",
          "text": [
            "lowest scores 45\n",
            "2\n"
          ]
        }
      ]
    },
    {
      "cell_type": "markdown",
      "source": [
        "iii) Reverse the tuple and return it as a list."
      ],
      "metadata": {
        "id": "Isoqk0jgwCrK"
      }
    },
    {
      "cell_type": "code",
      "source": [
        "print(list(scores[::-1]))"
      ],
      "metadata": {
        "colab": {
          "base_uri": "https://localhost:8080/"
        },
        "id": "l0hZ5dXBv16i",
        "outputId": "766c2eae-9bf6-4755-d7bb-3960f7779344"
      },
      "execution_count": null,
      "outputs": [
        {
          "output_type": "stream",
          "name": "stdout",
          "text": [
            "[45, 58, 92, 89, 45.4, 76, 89.5, 45]\n"
          ]
        }
      ]
    },
    {
      "cell_type": "markdown",
      "source": [
        "iv) Check if a specific score ‘76’ (input by the user) is present in the tuple and print its first occurrence index, or a message saying it’s not present."
      ],
      "metadata": {
        "id": "d5TOaT2dwQXF"
      }
    },
    {
      "cell_type": "code",
      "source": [
        "num=int(input(\"Enter required Number \"))\n",
        "if num in scores:\n",
        "    print(\"Present\")\n",
        "else:\n",
        "    print(\"Error:404 Number not found\")"
      ],
      "metadata": {
        "colab": {
          "base_uri": "https://localhost:8080/"
        },
        "id": "g_HjbSCGwPvD",
        "outputId": "5475296e-3e90-4bdb-dee5-bb0014c36400"
      },
      "execution_count": null,
      "outputs": [
        {
          "output_type": "stream",
          "name": "stdout",
          "text": [
            "Enter required Number 76\n",
            "Present\n"
          ]
        }
      ]
    }
  ]
}